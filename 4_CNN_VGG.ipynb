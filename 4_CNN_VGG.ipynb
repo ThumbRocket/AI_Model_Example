{
  "nbformat": 4,
  "nbformat_minor": 0,
  "metadata": {
    "colab": {
      "provenance": [],
      "gpuType": "T4",
      "authorship_tag": "ABX9TyOHKBBo7BvnipX+A9v75yX/",
      "include_colab_link": true
    },
    "kernelspec": {
      "name": "python3",
      "display_name": "Python 3"
    },
    "language_info": {
      "name": "python"
    },
    "accelerator": "GPU"
  },
  "cells": [
    {
      "cell_type": "markdown",
      "metadata": {
        "id": "view-in-github",
        "colab_type": "text"
      },
      "source": [
        "<a href=\"https://colab.research.google.com/github/ThumbRocket/Pre-Learning_AI_Model/blob/main/4_CNN_VGG.ipynb\" target=\"_parent\"><img src=\"https://colab.research.google.com/assets/colab-badge.svg\" alt=\"Open In Colab\"/></a>"
      ]
    },
    {
      "cell_type": "code",
      "execution_count": 1,
      "metadata": {
        "id": "kao8fWLcWv0_"
      },
      "outputs": [],
      "source": [
        "import os\n",
        "import pickle\n",
        "import sys\n",
        "import nbformat\n",
        "import json\n",
        "import subprocess\n",
        "import re\n",
        "from nbconvert.preprocessors import ExecutePreprocessor\n",
        "from nbclient import NotebookClient\n",
        "from IPython import get_ipython\n",
        "import numpy as np\n",
        "import pandas as pd\n",
        "from tqdm import tqdm\n",
        "import matplotlib.pyplot as plt\n",
        "\n",
        "import torch\n",
        "import torch.nn as nn\n",
        "import torch.optim as optim\n",
        "import torch.nn.functional as F\n",
        "from torchvision import transforms\n",
        "from torch.utils.data import Dataset, DataLoader\n",
        "\n",
        "from sklearn.metrics import classification_report\n",
        "from sklearn.model_selection import train_test_split"
      ]
    },
    {
      "cell_type": "code",
      "source": [
        "device = \"cuda\" if torch.cuda.is_available() else \"cpu\""
      ],
      "metadata": {
        "id": "H_SW_kruW5vW"
      },
      "execution_count": 2,
      "outputs": []
    },
    {
      "cell_type": "code",
      "source": [
        "!kaggle datasets download -d alexandremoritz/simulated-analog-wafer-pattern-recognition\n",
        "!unzip -o simulated-analog-wafer-pattern-recognition.zip\n",
        "\n",
        "df = pd.DataFrame()\n",
        "all_images=[]\n",
        "all_labels=[]\n",
        "test_images = []\n",
        "test_labels = []\n",
        "\n",
        "for i in range(1, 5):\n",
        "    tmp_df = pd.read_csv(\"training_\"+str(i)+\".csv\",\n",
        "                         sep=\";\",\n",
        "                         decimal=\",\",\n",
        "                         usecols=[\"lot\", \"wafer\", \"x\", \"y\", \"ring\", \"spot\", \"trend\", \"twospots\", \"crescent\"],\n",
        "                         dtype={\n",
        "                             \"lot\":np.string_,\n",
        "                             \"wafer\":np.int16,\n",
        "                             \"x\":np.int16,\n",
        "                             \"y\":np.int16,\n",
        "                             \"ring\":np.float64,\n",
        "                             \"spot\":np.float64,\n",
        "                             \"trend\":np.float64,\n",
        "                             \"twospot\":np.float64,\n",
        "                             \"cresent\":np.float64}\n",
        "                         )\n",
        "\n",
        "    df = pd.concat([df, tmp_df])\n",
        "\n",
        "test_df = pd.read_csv(\"test.csv\",\n",
        "                        sep=\";\",\n",
        "                        decimal=\",\",\n",
        "                        usecols=[\"lot\", \"wafer\", \"x\", \"y\", \"ring\", \"spot\", \"trend\", \"twospots\", \"crescent\"],\n",
        "                        dtype={\n",
        "                            \"lot\":np.string_,\n",
        "                            \"wafer\":np.int16,\n",
        "                            \"x\":np.int16,\n",
        "                            \"y\":np.int16,\n",
        "                            \"ring\":np.float64,\n",
        "                            \"spot\":np.float64,\n",
        "                            \"trend\":np.float64,\n",
        "                            \"twospot\":np.float64,\n",
        "                            \"cresent\":np.float64}\n",
        "                        )\n",
        "\n",
        "category = df.columns[4:].to_list()\n",
        "\n",
        "def create_image(df, wafer_id, pattern):\n",
        "\n",
        "    Image =np.zeros([193, 115])\n",
        "\n",
        "    for i, row in df[df[\"wafer\"]==wafer_id].iterrows():\n",
        "        Image[(row[\"y\"]-1), row[\"x\"]-1] = row[pattern]\n",
        "\n",
        "    return Image\n",
        "\n",
        "def create_images_from_df(df, wafer_id):\n",
        "\n",
        "    images=[]\n",
        "    labels=[]\n",
        "\n",
        "    for index, feature in enumerate(category):\n",
        "        image = np.copy(df[df[\"wafer\"]==wafer_id].pivot(index=\"x\", columns=\"y\", values=feature).fillna(0).values)\n",
        "        images.append(image)\n",
        "        labels.append(index)\n",
        "\n",
        "    return images, labels\n",
        "\n",
        "for id in tqdm(df[\"wafer\"].unique()):\n",
        "    image, label = create_images_from_df(df, id)\n",
        "\n",
        "    all_images.extend(image)\n",
        "    all_labels.extend(label)\n",
        "\n",
        "for id in tqdm(test_df[\"wafer\"].unique()):\n",
        "    image, label = create_images_from_df(test_df, id)\n",
        "\n",
        "    test_images.extend(image)\n",
        "    test_labels.extend(label)\n",
        "\n",
        "df_loaded = pd.DataFrame({\"image\" : all_images, \"label\" : all_labels})\n",
        "test_df_loaded = pd.DataFrame({\"image\" : test_images, \"label\" : test_labels})"
      ],
      "metadata": {
        "colab": {
          "base_uri": "https://localhost:8080/"
        },
        "id": "w8hdmCVBXFMV",
        "outputId": "77ec83cb-a689-48e7-feef-050634934c4c"
      },
      "execution_count": 3,
      "outputs": [
        {
          "output_type": "stream",
          "name": "stdout",
          "text": [
            "Dataset URL: https://www.kaggle.com/datasets/alexandremoritz/simulated-analog-wafer-pattern-recognition\n",
            "License(s): Attribution 4.0 International (CC BY 4.0)\n",
            "simulated-analog-wafer-pattern-recognition.zip: Skipping, found more recently modified local copy (use --force to force download)\n",
            "Archive:  simulated-analog-wafer-pattern-recognition.zip\n",
            "  inflating: Data Set Description.txt  \n",
            "  inflating: test.csv                \n",
            "  inflating: training_1.csv          \n",
            "  inflating: training_2.csv          \n",
            "  inflating: training_3.csv          \n",
            "  inflating: training_4.csv          \n"
          ]
        },
        {
          "output_type": "stream",
          "name": "stderr",
          "text": [
            "100%|██████████| 800/800 [00:57<00:00, 13.94it/s]\n",
            "100%|██████████| 200/200 [00:10<00:00, 19.32it/s]\n"
          ]
        }
      ]
    },
    {
      "cell_type": "code",
      "source": [
        "train_df, val_df = train_test_split(df_loaded, test_size=0.20, random_state=42, stratify=df_loaded[\"label\"])"
      ],
      "metadata": {
        "id": "Pj-0Bi-PXsrl"
      },
      "execution_count": 4,
      "outputs": []
    },
    {
      "cell_type": "code",
      "source": [
        "train_df.shape, val_df.shape, test_df_loaded.shape"
      ],
      "metadata": {
        "colab": {
          "base_uri": "https://localhost:8080/"
        },
        "id": "2nGd0F-SXuQe",
        "outputId": "841694ed-ee8e-4708-ccd2-55cb9f51db37"
      },
      "execution_count": 5,
      "outputs": [
        {
          "output_type": "execute_result",
          "data": {
            "text/plain": [
              "((3200, 2), (800, 2), (1000, 2))"
            ]
          },
          "metadata": {},
          "execution_count": 5
        }
      ]
    },
    {
      "cell_type": "code",
      "source": [
        "def minmax_scaling(image):\n",
        "    min_val = torch.min(image)\n",
        "    max_val = torch.max(image)\n",
        "\n",
        "    if max_val - min_val < 1e-9:\n",
        "        return image\n",
        "    else:\n",
        "        return (image - min_val) / (max_val - min_val)\n",
        "\n",
        "base_transform = transforms.Compose([\n",
        "    transforms.Lambda(minmax_scaling),\n",
        "    transforms.ToPILImage(),\n",
        "    transforms.Resize((96, 96)),\n",
        "    transforms.ToTensor()\n",
        "])\n",
        "\n",
        "train_transform = transforms.Compose([\n",
        "    base_transform,\n",
        "    transforms.RandomHorizontalFlip(),\n",
        "    transforms.RandomRotation(10),\n",
        "    transforms.ColorJitter(brightness=0.2, contrast=0.2, saturation=0.2, hue=0.1)\n",
        "])\n",
        "\n",
        "transform = {\n",
        "    \"train\" : train_transform,\n",
        "    \"test\" : base_transform\n",
        "}"
      ],
      "metadata": {
        "id": "16_aDZRmXw2x"
      },
      "execution_count": 6,
      "outputs": []
    },
    {
      "cell_type": "code",
      "source": [
        "class WaferDataset(Dataset):\n",
        "    def __init__(self, dataframe, mode='train',transform=None):\n",
        "        self.dataframe = dataframe\n",
        "        self.transform = transform\n",
        "        self.mode = mode\n",
        "\n",
        "    def __len__(self):\n",
        "        return len(self.dataframe)\n",
        "\n",
        "    def __getitem__(self, idx):\n",
        "        image = torch.tensor(self.dataframe.iloc[idx, 0]).float()\n",
        "        label = torch.tensor(self.dataframe.iloc[idx, 1]).long()\n",
        "\n",
        "        if self.transform:\n",
        "            image = self.transform[self.mode](image)\n",
        "\n",
        "        return image, label"
      ],
      "metadata": {
        "id": "DtPbL198Xyb4"
      },
      "execution_count": 7,
      "outputs": []
    },
    {
      "cell_type": "code",
      "source": [
        "train_dataset = WaferDataset(train_df, mode='train', transform=transform)\n",
        "val_dataset = WaferDataset(val_df, mode='test', transform=transform)\n",
        "test_dataset = WaferDataset(test_df_loaded, mode='test', transform=transform)"
      ],
      "metadata": {
        "id": "KhFlASfZXzuR"
      },
      "execution_count": 8,
      "outputs": []
    },
    {
      "cell_type": "code",
      "source": [
        "len(train_dataset), len(val_dataset), len(test_dataset)"
      ],
      "metadata": {
        "colab": {
          "base_uri": "https://localhost:8080/"
        },
        "id": "SD-QX3ClX05J",
        "outputId": "2d136e40-493b-409a-c85c-a72fa8414fab"
      },
      "execution_count": 9,
      "outputs": [
        {
          "output_type": "execute_result",
          "data": {
            "text/plain": [
              "(3200, 800, 1000)"
            ]
          },
          "metadata": {},
          "execution_count": 9
        }
      ]
    },
    {
      "cell_type": "code",
      "source": [
        "batch_size = 32\n",
        "\n",
        "train_loader = DataLoader(train_dataset, batch_size=batch_size, shuffle=True, num_workers=4)\n",
        "val_loader = DataLoader(val_dataset, batch_size=batch_size, shuffle=True, num_workers=4)\n",
        "test_loader = DataLoader(test_dataset, batch_size=batch_size, shuffle=True, num_workers=4)"
      ],
      "metadata": {
        "colab": {
          "base_uri": "https://localhost:8080/"
        },
        "id": "vNZSXgEHX17M",
        "outputId": "2bed9f06-ae5f-45d8-acf8-57d162c2ae67"
      },
      "execution_count": 10,
      "outputs": [
        {
          "output_type": "stream",
          "name": "stderr",
          "text": [
            "/usr/local/lib/python3.10/dist-packages/torch/utils/data/dataloader.py:558: UserWarning: This DataLoader will create 4 worker processes in total. Our suggested max number of worker in current system is 2, which is smaller than what this DataLoader is going to create. Please be aware that excessive worker creation might get DataLoader running slow or even freeze, lower the worker number to avoid potential slowness/freeze if necessary.\n",
            "  warnings.warn(_create_warning_msg(\n"
          ]
        }
      ]
    },
    {
      "cell_type": "code",
      "source": [
        "class VGG(nn.Module):\n",
        "    def __init__(self):\n",
        "        super().__init__()\n",
        "\n",
        "        # Block 1\n",
        "        self.conv1_1 = nn.Conv2d(1, 16, kernel_size=3, padding=1, bias=False)\n",
        "        self.conv1_2 = nn.Conv2d(16, 16, kernel_size=3, padding=1, bias=False)\n",
        "        self.bn1 = nn.BatchNorm2d(16)\n",
        "        self.pool1 = nn.MaxPool2d(kernel_size=2, stride=2)\n",
        "\n",
        "        # Block 2\n",
        "        self.conv2_1 = nn.Conv2d(16, 32, kernel_size=3, padding=1, bias=False)\n",
        "        self.conv2_2 = nn.Conv2d(32, 32, kernel_size=3, padding=1, bias=False)\n",
        "        self.bn2 = nn.BatchNorm2d(32)\n",
        "        self.pool2 = nn.MaxPool2d(kernel_size=2, stride=2)\n",
        "\n",
        "        # Block 3\n",
        "        self.conv3_1 = nn.Conv2d(32, 64, kernel_size=3, padding=1, bias=False)\n",
        "        self.conv3_2 = nn.Conv2d(64, 64, kernel_size=3, padding=1, bias=False)\n",
        "        self.bn3 = nn.BatchNorm2d(64)\n",
        "        self.pool3 = nn.MaxPool2d(kernel_size=2, stride=2)\n",
        "\n",
        "        # Fully-Connected Layer\n",
        "        self.fc1 = nn.Linear(64 * 12 * 12, 256)\n",
        "        self.fc2 = nn.Linear(256, 5)\n",
        "\n",
        "    def forward(self, x):\n",
        "        # Block 1 (input 96x96)\n",
        "        x = F.relu(self.conv1_1(x)) # 16x96x96\n",
        "        x = F.relu(self.conv1_2(x)) # 16x96x96\n",
        "        x = self.bn1(x)             # 16x96x96\n",
        "        x = self.pool1(x)           # 16x48x48\n",
        "\n",
        "        # Block 2\n",
        "        x = F.relu(self.conv2_1(x)) # 32x48x48\n",
        "        x = F.relu(self.conv2_2(x)) # 32x48x48\n",
        "        x = self.bn2(x)             # 32x48x48\n",
        "        x = self.pool2(x)           # 32x24x24\n",
        "\n",
        "        # Block 3\n",
        "        x = F.relu(self.conv3_1(x)) # 64x24x24\n",
        "        x = F.relu(self.conv3_2(x)) # 64x24x24\n",
        "        x = self.bn3(x)             # 64x24x24\n",
        "        x = self.pool3(x)           # 64x12x12\n",
        "\n",
        "        # flatter (batch_szie, 64x12X12) -> (batch_size, 9216)\n",
        "        x = x.view(x.size(0), -1)   # 9216 (64x12x12)\n",
        "\n",
        "        # Fully-Connected Layer\n",
        "        x = F.relu(self.fc1(x))     # 256\n",
        "        x = self.fc2(x)             # 5\n",
        "\n",
        "        return F.softmax(x, dim=1)"
      ],
      "metadata": {
        "id": "fTWf07egX4e7"
      },
      "execution_count": 11,
      "outputs": []
    },
    {
      "cell_type": "code",
      "source": [
        "model = VGG()"
      ],
      "metadata": {
        "id": "ciu3oWbdX56t"
      },
      "execution_count": 12,
      "outputs": []
    },
    {
      "cell_type": "code",
      "source": [
        "model = VGG()"
      ],
      "metadata": {
        "id": "XRqRzNqQX7r8"
      },
      "execution_count": 13,
      "outputs": []
    },
    {
      "cell_type": "code",
      "source": [
        "def train_model(model, train_loader, val_loader, optimizer, criterion, num_epochs, device, save_path):\n",
        "\n",
        "    model.to(device)\n",
        "\n",
        "    train_losses = []\n",
        "    val_losses = []\n",
        "\n",
        "    best_val_loss = float('inf')\n",
        "\n",
        "    for epoch in range(num_epochs):\n",
        "        model.train()\n",
        "\n",
        "        total_train_loss = 0.0\n",
        "        correct_train = 0\n",
        "\n",
        "        for inputs, labels in train_loader:\n",
        "            inputs, labels = inputs.to(device), labels.to(device)\n",
        "\n",
        "            optimizer.zero_grad()\n",
        "\n",
        "            outputs = model(inputs)\n",
        "            loss = criterion(outputs, labels)\n",
        "            loss.backward()\n",
        "            optimizer.step()\n",
        "\n",
        "            total_train_loss += loss.item() * inputs.size(0)\n",
        "\n",
        "            _, predicted = outputs.max(1)\n",
        "            correct_train += (predicted == labels).sum().item()\n",
        "\n",
        "        avg_train_loss = total_train_loss / len(train_loader.dataset)\n",
        "        train_losses.append(avg_train_loss)\n",
        "        train_accuracy = correct_train / len(train_loader.dataset)\n",
        "\n",
        "        model.eval()\n",
        "        total_val_loss = 0.0\n",
        "        correct_val = 0\n",
        "\n",
        "        with torch.no_grad():\n",
        "            for inputs, labels in val_loader:\n",
        "                inputs, labels = inputs.to(device), labels.to(device)\n",
        "\n",
        "                outputs = model(inputs)\n",
        "                loss = criterion(outputs, labels)\n",
        "\n",
        "                total_val_loss += loss.item() * inputs.size(0)\n",
        "\n",
        "                _, predicted = outputs.max(1)\n",
        "                correct_val += (predicted == labels).sum().item()\n",
        "\n",
        "        avg_val_loss = total_val_loss / len(val_loader.dataset)\n",
        "        val_losses.append(avg_val_loss)\n",
        "        val_accuracy = correct_val / len(val_loader.dataset)\n",
        "\n",
        "        print(f\"Epoch [{epoch + 1}/{num_epochs}] - \"\n",
        "              f\"Train Loss: {avg_train_loss:.4f}, Train Accuracy: {train_accuracy:.4f}, \"\n",
        "              f\"Validation Loss: {avg_val_loss:.4f}, Validation Accuracy: {val_accuracy:.4f}\")\n",
        "\n",
        "        # If the current validation loss is lower than the best validation loss, save the model.\n",
        "        if avg_val_loss < best_val_loss:\n",
        "            best_val_loss = avg_val_loss\n",
        "            torch.save(model.state_dict(), save_path)\n",
        "            print(f\"Model saved at {save_path}\")\n",
        "\n",
        "    return model, train_losses, val_losses"
      ],
      "metadata": {
        "id": "mIJG_2HOX97v"
      },
      "execution_count": 14,
      "outputs": []
    },
    {
      "cell_type": "code",
      "source": [
        "optimizer = optim.Adam(model.parameters(), lr=1e-6)\n",
        "criterion = nn.CrossEntropyLoss()\n",
        "epochs = 5\n",
        "save_path = 'CNN_VGG_checkpoint.pth'"
      ],
      "metadata": {
        "id": "p7ZvpVlHYDho"
      },
      "execution_count": 15,
      "outputs": []
    },
    {
      "cell_type": "code",
      "source": [
        "trained_model, train_loss, val_loss = train_model(model,\n",
        "                                                  train_loader,\n",
        "                                                  val_loader,\n",
        "                                                  optimizer,\n",
        "                                                  criterion,\n",
        "                                                  num_epochs=epochs,\n",
        "                                                  device=device,\n",
        "                                                  save_path=save_path)"
      ],
      "metadata": {
        "colab": {
          "base_uri": "https://localhost:8080/"
        },
        "id": "b6uZeBOXYJn_",
        "outputId": "6d0b2021-f0f3-4142-e45e-9fb3165f8129"
      },
      "execution_count": 16,
      "outputs": [
        {
          "output_type": "stream",
          "name": "stdout",
          "text": [
            "Epoch [1/5] - Train Loss: 1.5200, Train Accuracy: 0.6431, Validation Loss: 1.4337, Validation Accuracy: 0.9437\n",
            "Model saved at CNN_VGG_checkpoint.pth\n",
            "Epoch [2/5] - Train Loss: 1.2905, Train Accuracy: 0.9494, Validation Loss: 1.1847, Validation Accuracy: 0.9750\n",
            "Model saved at CNN_VGG_checkpoint.pth\n",
            "Epoch [3/5] - Train Loss: 1.1510, Train Accuracy: 0.9769, Validation Loss: 1.0857, Validation Accuracy: 0.9862\n",
            "Model saved at CNN_VGG_checkpoint.pth\n",
            "Epoch [4/5] - Train Loss: 1.0697, Train Accuracy: 0.9884, Validation Loss: 1.0219, Validation Accuracy: 0.9988\n",
            "Model saved at CNN_VGG_checkpoint.pth\n",
            "Epoch [5/5] - Train Loss: 1.0127, Train Accuracy: 0.9966, Validation Loss: 0.9780, Validation Accuracy: 1.0000\n",
            "Model saved at CNN_VGG_checkpoint.pth\n"
          ]
        }
      ]
    },
    {
      "cell_type": "code",
      "source": [
        "def test_model(model, test_loader, criterion, device):\n",
        "\n",
        "    model.eval()\n",
        "\n",
        "    model.to(device)\n",
        "\n",
        "    total_loss = 0.0\n",
        "    correct = 0\n",
        "    total = 0\n",
        "\n",
        "    with torch.no_grad():\n",
        "        for inputs, labels in test_loader:\n",
        "\n",
        "            inputs, labels = inputs.to(device), labels.to(device)\n",
        "            outputs = model(inputs)\n",
        "\n",
        "            loss = criterion(outputs, labels)\n",
        "\n",
        "            total_loss += loss.item() * inputs.size(0)\n",
        "            _, predicted = outputs.max(1)\n",
        "            total += labels.size(0)\n",
        "\n",
        "            correct += (predicted == labels).sum().item()\n",
        "\n",
        "    avg_test_loss = total_loss / total\n",
        "    test_accuracy = correct / total\n",
        "\n",
        "    print(f\"Test Loss: {avg_test_loss:.4f}, Test Accuracy: {test_accuracy:.4f}\")\n",
        "\n",
        "    return avg_test_loss, test_accuracy"
      ],
      "metadata": {
        "id": "jaYeVJwlYLJn"
      },
      "execution_count": 17,
      "outputs": []
    },
    {
      "cell_type": "code",
      "source": [
        "test_loss, test_accuracy = test_model(trained_model,\n",
        "                                      test_loader,\n",
        "                                      criterion,\n",
        "                                      device=device)\n",
        "\n",
        "print(f\"Test loss: {test_loss} | Test Accuracy: {test_accuracy}\")"
      ],
      "metadata": {
        "colab": {
          "base_uri": "https://localhost:8080/"
        },
        "id": "HjVQSFamYNAj",
        "outputId": "66583076-7758-4b0c-b588-ad8132ef44b1"
      },
      "execution_count": 18,
      "outputs": [
        {
          "output_type": "stream",
          "name": "stdout",
          "text": [
            "Test Loss: 0.9792, Test Accuracy: 0.9980\n",
            "Test loss: 0.9792184143066406 | Test Accuracy: 0.998\n"
          ]
        }
      ]
    },
    {
      "cell_type": "code",
      "source": [
        "plt.figure(figsize=(10, 6))\n",
        "plt.plot(train_loss, label='Training Loss', color='blue')\n",
        "plt.plot(val_loss, label='Validation Loss', color='red')\n",
        "\n",
        "plt.title('Training and Validation Loss over Epochs')\n",
        "plt.xlabel('Epochs')\n",
        "plt.ylabel('Loss')\n",
        "plt.legend()\n",
        "\n",
        "plt.show()"
      ],
      "metadata": {
        "colab": {
          "base_uri": "https://localhost:8080/",
          "height": 564
        },
        "id": "hQcqduAoYOrA",
        "outputId": "b312bc00-8f91-4026-dc6a-dc40a0a2426a"
      },
      "execution_count": 19,
      "outputs": [
        {
          "output_type": "display_data",
          "data": {
            "text/plain": [
              "<Figure size 1000x600 with 1 Axes>"
            ],
            "image/png": "[encoded data removed]"
          },
          "metadata": {}
        }
      ]
    },
    {
      "cell_type": "markdown",
      "source": [
        "### Classification report\n",
        "\n",
        "classification_report는 분류 작업의 성능을 평가하기 위한 주요 지표를 제공하는 함수입니다.\n",
        "\n",
        "이 함수는 `sklearn.metrics` 모듈에 포함되어 있으며, 주로 다음지표를 포함합니다:\n",
        "\n",
        "1. 정밀도(Precision):\n",
        "\n",
        "    - 정밀도는 \"True로 예측된 것 중에서 실제로 True인 것의 비율\"을 나타냅니다.\n",
        "\n",
        "    - 모델이 True라고 예측한 것 중에서 실제로 True인 것의 비율을 나타냅니다.\n",
        "\n",
        "2. 재현율(Recall) 또는 민감도(Sensitivity):\n",
        "\n",
        "    - 재현율은 \"실제 True인 것 중에서 True로 예측된 것의 비율\"을 나타냅니다.\n",
        "    \n",
        "    - 실제 True인 것 중에서 모델이 True라고 예측한 것의 비율을 나타냅니다.\n",
        "\n",
        "3. F1-Score (F1-Score):\n",
        "\n",
        "    - F1-Score는 정밀도와 재현율의 조화 평균입니다.\n",
        "\n",
        "    - 정밀도와 재현율이 모두 높을 때 F1-점수도 높아집니다.\n",
        "\n",
        "4. 지지도(Support):\n",
        "\n",
        "    - 지지도는 각 클래스에 속하는 실제 인스턴스의 수를 나타냅니다.\n",
        "\n",
        "    - 예를 들어, 100개의 샘플 중 30개가 클래스 A에 속하면, 클래스 A의 지지도는 30입니다."
      ],
      "metadata": {
        "id": "zIjZQL3QYRuH"
      }
    },
    {
      "cell_type": "code",
      "source": [
        "def get_predictions(model, loader, device):\n",
        "    all_preds = []\n",
        "    all_labels = []\n",
        "\n",
        "    model.eval()\n",
        "    with torch.no_grad():\n",
        "        for inputs, labels in loader:\n",
        "            inputs = inputs.to(device)\n",
        "\n",
        "            outputs = model(inputs)\n",
        "            _, preds = torch.max(outputs, 1)\n",
        "\n",
        "            all_preds.extend(preds.cpu().numpy())\n",
        "            all_labels.extend(labels.numpy())\n",
        "\n",
        "    return all_preds, all_labels"
      ],
      "metadata": {
        "id": "wdzJRuaQYSfq"
      },
      "execution_count": 20,
      "outputs": []
    },
    {
      "cell_type": "code",
      "source": [
        "predictions, true_labels  = get_predictions(trained_model, val_loader, device)"
      ],
      "metadata": {
        "id": "y1jKwnwSYUoH"
      },
      "execution_count": 21,
      "outputs": []
    },
    {
      "cell_type": "code",
      "source": [
        "report = classification_report(true_labels, predictions)\n",
        "print(report)"
      ],
      "metadata": {
        "colab": {
          "base_uri": "https://localhost:8080/"
        },
        "id": "MTNeajUhYXlq",
        "outputId": "1750dc86-b9c3-40f3-c605-1c3cc3700105"
      },
      "execution_count": 22,
      "outputs": [
        {
          "output_type": "stream",
          "name": "stdout",
          "text": [
            "              precision    recall  f1-score   support\n",
            "\n",
            "           0       1.00      1.00      1.00       160\n",
            "           1       1.00      1.00      1.00       160\n",
            "           2       1.00      1.00      1.00       160\n",
            "           3       1.00      1.00      1.00       160\n",
            "           4       1.00      1.00      1.00       160\n",
            "\n",
            "    accuracy                           1.00       800\n",
            "   macro avg       1.00      1.00      1.00       800\n",
            "weighted avg       1.00      1.00      1.00       800\n",
            "\n"
          ]
        }
      ]
    }
  ]
}