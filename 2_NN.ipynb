{
  "nbformat": 4,
  "nbformat_minor": 0,
  "metadata": {
    "colab": {
      "provenance": [],
      "authorship_tag": "ABX9TyO3B92w9wJCTPB+OZJbjQdR",
      "include_colab_link": true
    },
    "kernelspec": {
      "name": "python3",
      "display_name": "Python 3"
    },
    "language_info": {
      "name": "python"
    }
  },
  "cells": [
    {
      "cell_type": "markdown",
      "metadata": {
        "id": "view-in-github",
        "colab_type": "text"
      },
      "source": [
        "<a href=\"https://colab.research.google.com/github/ThumbRocket/Pre-Learning_AI_Model/blob/main/2_NN.ipynb\" target=\"_parent\"><img src=\"https://colab.research.google.com/assets/colab-badge.svg\" alt=\"Open In Colab\"/></a>"
      ]
    },
    {
      "cell_type": "code",
      "execution_count": 1,
      "metadata": {
        "id": "79g1nP9_Nmil"
      },
      "outputs": [],
      "source": [
        "# torch 의 유용한 함수들\n",
        "import numpy as np\n",
        "import torch\n",
        "import torch.nn as nn  # neural network 모음. (e.g. nn.Linear, nn.Conv2d, BatchNorm, Loss functions 등등)\n",
        "import torch.optim as optim  # Optimization algorithm 모음, (e.g. SGD, Adam, 등등)\n",
        "import torch.nn.functional as F  # 파라미터가 필요없는 Function 모음\n",
        "import torchvision.datasets as datasets  # 표준 데이터 세트 모음\n",
        "import torchvision.transforms as transforms  # 데이터 세트에 적용 할 수있는 변환 관련 함수 모음\n",
        "from torch.utils.data import DataLoader  # 데이터 세트 관리 및 미니 배치 생성을 위한 함수 모음\n",
        "from torch.utils.data import TensorDataset # 텐서데이터셋\n",
        "import torch.backends.cudnn as cudnn  # cudnn을 다루기 위한 값 모음"
      ]
    },
    {
      "cell_type": "code",
      "source": [
        "device = torch.device(\"cuda\" if torch.cuda.is_available() else \"cpu\")"
      ],
      "metadata": {
        "id": "tgJzlX-hNt_o"
      },
      "execution_count": 2,
      "outputs": []
    },
    {
      "cell_type": "markdown",
      "source": [
        "# Linear Regression Model"
      ],
      "metadata": {
        "id": "oeqHM90GNxDL"
      }
    },
    {
      "cell_type": "code",
      "source": [
        "x_train = torch.FloatTensor([[1], [2], [3]])\n",
        "y_train = torch.FloatTensor([[5], [7], [9]])"
      ],
      "metadata": {
        "id": "E9GfoT9JNulZ"
      },
      "execution_count": 3,
      "outputs": []
    },
    {
      "cell_type": "code",
      "source": [
        "x_train, x_train.shape"
      ],
      "metadata": {
        "colab": {
          "base_uri": "https://localhost:8080/"
        },
        "id": "UrqkI-sON2D2",
        "outputId": "c02e4878-d74d-46ab-f3a7-29666c32144f"
      },
      "execution_count": 4,
      "outputs": [
        {
          "output_type": "execute_result",
          "data": {
            "text/plain": [
              "(tensor([[1.],\n",
              "         [2.],\n",
              "         [3.]]),\n",
              " torch.Size([3, 1]))"
            ]
          },
          "metadata": {},
          "execution_count": 4
        }
      ]
    },
    {
      "cell_type": "code",
      "source": [
        "W = torch.zeros(1, requires_grad=True)\n",
        "b = torch.zeros(1, requires_grad=True)"
      ],
      "metadata": {
        "id": "hUNdVN6EN36u"
      },
      "execution_count": 5,
      "outputs": []
    },
    {
      "cell_type": "code",
      "source": [
        "W, W.shape"
      ],
      "metadata": {
        "colab": {
          "base_uri": "https://localhost:8080/"
        },
        "id": "5oWK6abjN54z",
        "outputId": "423120bb-e720-4089-f15b-5c5873bfdb53"
      },
      "execution_count": 6,
      "outputs": [
        {
          "output_type": "execute_result",
          "data": {
            "text/plain": [
              "(tensor([0.], requires_grad=True), torch.Size([1]))"
            ]
          },
          "metadata": {},
          "execution_count": 6
        }
      ]
    },
    {
      "cell_type": "code",
      "source": [
        "hypothesis = x_train * W + b"
      ],
      "metadata": {
        "id": "dOt6bLViN8FM"
      },
      "execution_count": 7,
      "outputs": []
    },
    {
      "cell_type": "code",
      "source": [
        "hypothesis"
      ],
      "metadata": {
        "colab": {
          "base_uri": "https://localhost:8080/"
        },
        "id": "Bf1iLWn6N9WA",
        "outputId": "d9fa8014-f062-4c19-f41a-4e00e6c5348b"
      },
      "execution_count": 8,
      "outputs": [
        {
          "output_type": "execute_result",
          "data": {
            "text/plain": [
              "tensor([[0.],\n",
              "        [0.],\n",
              "        [0.]], grad_fn=<AddBackward0>)"
            ]
          },
          "metadata": {},
          "execution_count": 8
        }
      ]
    },
    {
      "cell_type": "code",
      "source": [
        "(hypothesis - y_train) ** 2 / 3"
      ],
      "metadata": {
        "colab": {
          "base_uri": "https://localhost:8080/"
        },
        "id": "oqSWWztON-jm",
        "outputId": "c09e39b2-a214-4632-ee33-1ac3d5294284"
      },
      "execution_count": 9,
      "outputs": [
        {
          "output_type": "execute_result",
          "data": {
            "text/plain": [
              "tensor([[ 8.3333],\n",
              "        [16.3333],\n",
              "        [27.0000]], grad_fn=<DivBackward0>)"
            ]
          },
          "metadata": {},
          "execution_count": 9
        }
      ]
    },
    {
      "cell_type": "code",
      "source": [
        "cost = torch.mean((hypothesis - y_train) ** 2)\n",
        "print(cost)"
      ],
      "metadata": {
        "colab": {
          "base_uri": "https://localhost:8080/"
        },
        "id": "yvU-3pUcOBGD",
        "outputId": "8f8b2967-342c-4782-c1a3-29f58ec0afaf"
      },
      "execution_count": 10,
      "outputs": [
        {
          "output_type": "stream",
          "name": "stdout",
          "text": [
            "tensor(51.6667, grad_fn=<MeanBackward0>)\n"
          ]
        }
      ]
    },
    {
      "cell_type": "code",
      "source": [
        "W"
      ],
      "metadata": {
        "colab": {
          "base_uri": "https://localhost:8080/"
        },
        "id": "-iR7S4g8OElv",
        "outputId": "ada73418-9baa-4148-a500-93570d1c7d04"
      },
      "execution_count": 11,
      "outputs": [
        {
          "output_type": "execute_result",
          "data": {
            "text/plain": [
              "tensor([0.], requires_grad=True)"
            ]
          },
          "metadata": {},
          "execution_count": 11
        }
      ]
    },
    {
      "cell_type": "code",
      "source": [
        "optimizer = optim.SGD([W, b], lr=0.01)"
      ],
      "metadata": {
        "id": "WR9IrGi_OHCk"
      },
      "execution_count": 12,
      "outputs": []
    },
    {
      "cell_type": "code",
      "source": [
        "optimizer.zero_grad()\n",
        "cost.backward()\n",
        "optimizer.step()"
      ],
      "metadata": {
        "id": "NxUq5HfdOIIh"
      },
      "execution_count": 13,
      "outputs": []
    },
    {
      "cell_type": "markdown",
      "source": [
        "### 1 epoch 실행 시 W 변화"
      ],
      "metadata": {
        "id": "KGkJOGx5OKgA"
      }
    },
    {
      "cell_type": "code",
      "source": [
        "W"
      ],
      "metadata": {
        "colab": {
          "base_uri": "https://localhost:8080/"
        },
        "id": "PwOk7fSoOLMK",
        "outputId": "54ef5545-e8e8-46a9-f13f-87b57d8d1ead"
      },
      "execution_count": 14,
      "outputs": [
        {
          "output_type": "execute_result",
          "data": {
            "text/plain": [
              "tensor([0.3067], requires_grad=True)"
            ]
          },
          "metadata": {},
          "execution_count": 14
        }
      ]
    },
    {
      "cell_type": "code",
      "source": [
        "epochs = 3000\n",
        "\n",
        "for epoch in range(epochs+1):\n",
        "\n",
        "    hypothesis = x_train * W + b\n",
        "    cost = torch.mean((hypothesis - y_train) ** 2)\n",
        "\n",
        "    optimizer.zero_grad() # RNN에서는 전파과정에 gradient add 동작 존재\n",
        "    cost.backward()\n",
        "    optimizer.step()\n",
        "\n",
        "    if epoch % 200 == 0:\n",
        "        print('Epoch {:4d}/{} W: {:.3f}, b: {:.3f} Cost: {:.6f}'.format(\n",
        "            epoch, epochs, W.item(), b.item(), cost.item()\n",
        "            ))"
      ],
      "metadata": {
        "colab": {
          "base_uri": "https://localhost:8080/"
        },
        "id": "lw53TvGEONZ5",
        "outputId": "a90f80eb-c937-40ee-9ce4-807d2cb168d4"
      },
      "execution_count": 15,
      "outputs": [
        {
          "output_type": "stream",
          "name": "stdout",
          "text": [
            "Epoch    0/3000 W: 0.579, b: 0.265 Cost: 40.932430\n",
            "Epoch  200/3000 W: 2.481, b: 1.908 Cost: 0.172035\n",
            "Epoch  400/3000 W: 2.297, b: 2.325 Cost: 0.065691\n",
            "Epoch  600/3000 W: 2.184, b: 2.583 Cost: 0.025084\n",
            "Epoch  800/3000 W: 2.113, b: 2.742 Cost: 0.009578\n",
            "Epoch 1000/3000 W: 2.070, b: 2.841 Cost: 0.003658\n",
            "Epoch 1200/3000 W: 2.043, b: 2.902 Cost: 0.001397\n",
            "Epoch 1400/3000 W: 2.027, b: 2.939 Cost: 0.000533\n",
            "Epoch 1600/3000 W: 2.017, b: 2.962 Cost: 0.000204\n",
            "Epoch 1800/3000 W: 2.010, b: 2.977 Cost: 0.000078\n",
            "Epoch 2000/3000 W: 2.006, b: 2.986 Cost: 0.000030\n",
            "Epoch 2200/3000 W: 2.004, b: 2.991 Cost: 0.000011\n",
            "Epoch 2400/3000 W: 2.002, b: 2.995 Cost: 0.000004\n",
            "Epoch 2600/3000 W: 2.001, b: 2.997 Cost: 0.000002\n",
            "Epoch 2800/3000 W: 2.001, b: 2.998 Cost: 0.000001\n",
            "Epoch 3000/3000 W: 2.001, b: 2.999 Cost: 0.000000\n"
          ]
        }
      ]
    },
    {
      "cell_type": "code",
      "source": [
        "model = nn.Linear(1, 1)\n",
        "list(model.parameters())"
      ],
      "metadata": {
        "colab": {
          "base_uri": "https://localhost:8080/"
        },
        "id": "zUBGqvniOOvt",
        "outputId": "e3888f5e-6f7e-413b-8987-0205738b35e6"
      },
      "execution_count": 16,
      "outputs": [
        {
          "output_type": "execute_result",
          "data": {
            "text/plain": [
              "[Parameter containing:\n",
              " tensor([[-0.9184]], requires_grad=True),\n",
              " Parameter containing:\n",
              " tensor([0.3281], requires_grad=True)]"
            ]
          },
          "metadata": {},
          "execution_count": 16
        }
      ]
    },
    {
      "cell_type": "code",
      "source": [
        "x_train, model(x_train)"
      ],
      "metadata": {
        "colab": {
          "base_uri": "https://localhost:8080/"
        },
        "id": "PK9uW0lsOQYd",
        "outputId": "d9ca68d7-1936-453a-830d-2fa361aefaab"
      },
      "execution_count": 17,
      "outputs": [
        {
          "output_type": "execute_result",
          "data": {
            "text/plain": [
              "(tensor([[1.],\n",
              "         [2.],\n",
              "         [3.]]),\n",
              " tensor([[-0.5903],\n",
              "         [-1.5087],\n",
              "         [-2.4271]], grad_fn=<AddmmBackward0>))"
            ]
          },
          "metadata": {},
          "execution_count": 17
        }
      ]
    },
    {
      "cell_type": "code",
      "source": [
        "optimizer = optim.SGD(model.parameters(), lr=0.01)"
      ],
      "metadata": {
        "id": "1An3jUYPORri"
      },
      "execution_count": 18,
      "outputs": []
    },
    {
      "cell_type": "code",
      "source": [
        "model(x_train), y_train, list(model.parameters())"
      ],
      "metadata": {
        "colab": {
          "base_uri": "https://localhost:8080/"
        },
        "id": "950RUTdZOW1n",
        "outputId": "c79aaaa7-d667-4984-e0e2-8eaa3e29faa5"
      },
      "execution_count": 19,
      "outputs": [
        {
          "output_type": "execute_result",
          "data": {
            "text/plain": [
              "(tensor([[-0.5903],\n",
              "         [-1.5087],\n",
              "         [-2.4271]], grad_fn=<AddmmBackward0>),\n",
              " tensor([[5.],\n",
              "         [7.],\n",
              "         [9.]]),\n",
              " [Parameter containing:\n",
              "  tensor([[-0.9184]], requires_grad=True),\n",
              "  Parameter containing:\n",
              "  tensor([0.3281], requires_grad=True)])"
            ]
          },
          "metadata": {},
          "execution_count": 19
        }
      ]
    },
    {
      "cell_type": "code",
      "source": [
        "epochs = 3000\n",
        "\n",
        "for epoch in range(epochs+1):\n",
        "\n",
        "    prediction = model(x_train)\n",
        "    cost = F.mse_loss(prediction, y_train) # torch.mean((hypothesis - y_train) ** 2)\n",
        "\n",
        "    optimizer.zero_grad()\n",
        "    cost.backward()\n",
        "    optimizer.step()\n",
        "\n",
        "    if epoch % 200 == 0:\n",
        "        print('Epoch {:4d}/{} Cost: {:.6f}'.format(\n",
        "            epoch, epochs, cost.item()\n",
        "            ))"
      ],
      "metadata": {
        "colab": {
          "base_uri": "https://localhost:8080/"
        },
        "id": "AID4_GFPOU-C",
        "outputId": "4576ef06-f7ec-4bf5-9877-1361e65042e4"
      },
      "execution_count": 20,
      "outputs": [
        {
          "output_type": "stream",
          "name": "stdout",
          "text": [
            "Epoch    0/3000 Cost: 78.075951\n",
            "Epoch  200/3000 Cost: 0.074100\n",
            "Epoch  400/3000 Cost: 0.028295\n",
            "Epoch  600/3000 Cost: 0.010804\n",
            "Epoch  800/3000 Cost: 0.004126\n",
            "Epoch 1000/3000 Cost: 0.001575\n",
            "Epoch 1200/3000 Cost: 0.000602\n",
            "Epoch 1400/3000 Cost: 0.000230\n",
            "Epoch 1600/3000 Cost: 0.000088\n",
            "Epoch 1800/3000 Cost: 0.000033\n",
            "Epoch 2000/3000 Cost: 0.000013\n",
            "Epoch 2200/3000 Cost: 0.000005\n",
            "Epoch 2400/3000 Cost: 0.000002\n",
            "Epoch 2600/3000 Cost: 0.000001\n",
            "Epoch 2800/3000 Cost: 0.000000\n",
            "Epoch 3000/3000 Cost: 0.000000\n"
          ]
        }
      ]
    },
    {
      "cell_type": "markdown",
      "source": [
        "### pytorch Model 활용 Multi Linear Regression Model"
      ],
      "metadata": {
        "id": "FgcFVWCuOZFx"
      }
    },
    {
      "cell_type": "code",
      "source": [
        "x_train = torch.FloatTensor([[73, 80, 75], [93, 88, 93], [89, 91, 90], [96, 98, 100], [73, 66, 70]])\n",
        "y_train = torch.FloatTensor([[152], [185], [180], [196], [142]])"
      ],
      "metadata": {
        "id": "pz-jPwcoOZlI"
      },
      "execution_count": 21,
      "outputs": []
    },
    {
      "cell_type": "code",
      "source": [
        "x_train.shape, y_train.shape"
      ],
      "metadata": {
        "colab": {
          "base_uri": "https://localhost:8080/"
        },
        "id": "dWdxbqa1Oau2",
        "outputId": "1175fbbc-55f5-4881-af36-2830ad12cded"
      },
      "execution_count": 22,
      "outputs": [
        {
          "output_type": "execute_result",
          "data": {
            "text/plain": [
              "(torch.Size([5, 3]), torch.Size([5, 1]))"
            ]
          },
          "metadata": {},
          "execution_count": 22
        }
      ]
    },
    {
      "cell_type": "code",
      "source": [
        "model = nn.Linear(3, 1)"
      ],
      "metadata": {
        "id": "xING8_EXOcOf"
      },
      "execution_count": 23,
      "outputs": []
    },
    {
      "cell_type": "code",
      "source": [
        "list(model.parameters())"
      ],
      "metadata": {
        "colab": {
          "base_uri": "https://localhost:8080/"
        },
        "id": "-9WnkjZcOdnA",
        "outputId": "3413a127-2d9c-4714-d721-0fe1e9c8648b"
      },
      "execution_count": 24,
      "outputs": [
        {
          "output_type": "execute_result",
          "data": {
            "text/plain": [
              "[Parameter containing:\n",
              " tensor([[ 0.1495, -0.2733, -0.0775]], requires_grad=True),\n",
              " Parameter containing:\n",
              " tensor([0.2255], requires_grad=True)]"
            ]
          },
          "metadata": {},
          "execution_count": 24
        }
      ]
    },
    {
      "cell_type": "code",
      "source": [
        "optimizer = optim.SGD(model.parameters(), lr=1e-5)"
      ],
      "metadata": {
        "id": "vTxEYg85Of4N"
      },
      "execution_count": 25,
      "outputs": []
    },
    {
      "cell_type": "code",
      "source": [
        "epochs = 6000\n",
        "\n",
        "for epoch in range(epochs+1):\n",
        "\n",
        "    prediction = model(x_train)\n",
        "    cost = F.mse_loss(prediction, y_train) # torch.mean((hypothesis - y_train) ** 2)\n",
        "\n",
        "    optimizer.zero_grad()\n",
        "    cost.backward()\n",
        "    optimizer.step()\n",
        "\n",
        "    if epoch % 600 == 0:\n",
        "        print('Epoch {:4d}/{} Cost: {:.6f}'.format(\n",
        "            epoch, epochs, cost.item()\n",
        "            ))"
      ],
      "metadata": {
        "colab": {
          "base_uri": "https://localhost:8080/"
        },
        "id": "0V45KgqUOg3y",
        "outputId": "d0595afe-d9de-4629-8ab0-b5aac195077f"
      },
      "execution_count": 26,
      "outputs": [
        {
          "output_type": "stream",
          "name": "stdout",
          "text": [
            "Epoch    0/6000 Cost: 35806.757812\n",
            "Epoch  600/6000 Cost: 0.252116\n",
            "Epoch 1200/6000 Cost: 0.248653\n",
            "Epoch 1800/6000 Cost: 0.245510\n",
            "Epoch 2400/6000 Cost: 0.242617\n",
            "Epoch 3000/6000 Cost: 0.239929\n",
            "Epoch 3600/6000 Cost: 0.237404\n",
            "Epoch 4200/6000 Cost: 0.235022\n",
            "Epoch 4800/6000 Cost: 0.232740\n",
            "Epoch 5400/6000 Cost: 0.230558\n",
            "Epoch 6000/6000 Cost: 0.228463\n"
          ]
        }
      ]
    },
    {
      "cell_type": "code",
      "source": [
        "model(x_train), y_train, list(model.parameters())"
      ],
      "metadata": {
        "colab": {
          "base_uri": "https://localhost:8080/"
        },
        "id": "7vytfemeOifS",
        "outputId": "fb847cbb-6eaf-49ee-bd14-b55092612e80"
      },
      "execution_count": 27,
      "outputs": [
        {
          "output_type": "execute_result",
          "data": {
            "text/plain": [
              "(tensor([[151.3266],\n",
              "         [184.7156],\n",
              "         [180.5291],\n",
              "         [196.5000],\n",
              "         [141.7206]], grad_fn=<AddmmBackward0>),\n",
              " tensor([[152.],\n",
              "         [185.],\n",
              "         [180.],\n",
              "         [196.],\n",
              "         [142.]]),\n",
              " [Parameter containing:\n",
              "  tensor([[0.9122, 0.4584, 0.6377]], requires_grad=True),\n",
              "  Parameter containing:\n",
              "  tensor([0.2393], requires_grad=True)])"
            ]
          },
          "metadata": {},
          "execution_count": 27
        }
      ]
    },
    {
      "cell_type": "markdown",
      "source": [
        "#### Class을 이용한 Model 구현"
      ],
      "metadata": {
        "id": "Cz1cero-OrV8"
      }
    },
    {
      "cell_type": "code",
      "source": [
        "class MultiLinearRegressionModel(nn.Module):\n",
        "    def __init__(self):\n",
        "        super().__init__()\n",
        "        self.linear = nn.Linear(3, 1)\n",
        "\n",
        "    def forward(self, inputdata):\n",
        "        return self.linear(inputdata)"
      ],
      "metadata": {
        "id": "JL2T0C34OqfG"
      },
      "execution_count": 28,
      "outputs": []
    },
    {
      "cell_type": "code",
      "source": [
        "model = MultiLinearRegressionModel()"
      ],
      "metadata": {
        "id": "GH9ckIOXOttm"
      },
      "execution_count": 29,
      "outputs": []
    },
    {
      "cell_type": "code",
      "source": [
        "model # model의 Layer 정보"
      ],
      "metadata": {
        "colab": {
          "base_uri": "https://localhost:8080/"
        },
        "id": "BI6Yi8UvOvwO",
        "outputId": "e835fad3-1d16-4f4e-81fa-29b135c0d2f6"
      },
      "execution_count": 30,
      "outputs": [
        {
          "output_type": "execute_result",
          "data": {
            "text/plain": [
              "MultiLinearRegressionModel(\n",
              "  (linear): Linear(in_features=3, out_features=1, bias=True)\n",
              ")"
            ]
          },
          "metadata": {},
          "execution_count": 30
        }
      ]
    },
    {
      "cell_type": "code",
      "source": [
        "optimizer = optim.SGD(model.parameters(), lr=1e-5)"
      ],
      "metadata": {
        "id": "Uknd4HcROxNK"
      },
      "execution_count": 31,
      "outputs": []
    },
    {
      "cell_type": "code",
      "source": [
        "epochs = 3000\n",
        "\n",
        "for epoch in range(epochs+1):\n",
        "\n",
        "    prediction = model.forward(x_train)\n",
        "    cost = F.mse_loss(prediction, y_train)\n",
        "\n",
        "    optimizer.zero_grad()\n",
        "    cost.backward()\n",
        "    optimizer.step()\n",
        "\n",
        "    if epoch % 600 == 0:\n",
        "        print('Epoch {:4d}/{} Cost: {:.6f}'.format(\n",
        "            epoch, epochs, cost.item()\n",
        "            ))"
      ],
      "metadata": {
        "colab": {
          "base_uri": "https://localhost:8080/"
        },
        "id": "8yG4X6zXOypl",
        "outputId": "03e1fb70-a6c4-4fec-ee66-5311251655c7"
      },
      "execution_count": 32,
      "outputs": [
        {
          "output_type": "stream",
          "name": "stdout",
          "text": [
            "Epoch    0/3000 Cost: 3500.848389\n",
            "Epoch  600/3000 Cost: 1.266888\n",
            "Epoch 1200/3000 Cost: 0.996098\n",
            "Epoch 1800/3000 Cost: 0.799549\n",
            "Epoch 2400/3000 Cost: 0.656681\n",
            "Epoch 3000/3000 Cost: 0.552599\n"
          ]
        }
      ]
    },
    {
      "cell_type": "code",
      "source": [
        "model(x_train), y_train, list(model.parameters())"
      ],
      "metadata": {
        "colab": {
          "base_uri": "https://localhost:8080/"
        },
        "id": "g9FJOnw3O0mr",
        "outputId": "5817e24e-d541-4e11-accc-67c3b57819b2"
      },
      "execution_count": 33,
      "outputs": [
        {
          "output_type": "execute_result",
          "data": {
            "text/plain": [
              "(tensor([[151.9473],\n",
              "         [184.2736],\n",
              "         [180.7598],\n",
              "         [196.7585],\n",
              "         [140.9612]], grad_fn=<AddmmBackward0>),\n",
              " tensor([[152.],\n",
              "         [185.],\n",
              "         [180.],\n",
              "         [196.],\n",
              "         [142.]]),\n",
              " [Parameter containing:\n",
              "  tensor([[0.8245, 0.5593, 0.6312]], requires_grad=True),\n",
              "  Parameter containing:\n",
              "  tensor([-0.3259], requires_grad=True)])"
            ]
          },
          "metadata": {},
          "execution_count": 33
        }
      ]
    },
    {
      "cell_type": "markdown",
      "source": [
        "#### Pytorch Dataset 이용"
      ],
      "metadata": {
        "id": "GVQKnXXtO5cu"
      }
    },
    {
      "cell_type": "code",
      "source": [
        "x_train  =  torch.FloatTensor([[73,  80,  75],\n",
        "                               [93,  88,  93],\n",
        "                               [89,  91,  90],\n",
        "                               [96,  98,  100],\n",
        "                               [73,  66,  70]])\n",
        "y_train  =  torch.FloatTensor([[152],  [185],  [180],  [196],  [142]])\n",
        "\n",
        "dataset = TensorDataset(x_train, y_train)"
      ],
      "metadata": {
        "id": "HvXWuzSGO2at"
      },
      "execution_count": 34,
      "outputs": []
    },
    {
      "cell_type": "code",
      "source": [
        "dataset, len(dataset), dataset[0], dataset[2], dataset[3]"
      ],
      "metadata": {
        "colab": {
          "base_uri": "https://localhost:8080/"
        },
        "id": "zQVFjkNDO9wd",
        "outputId": "20b2b634-0a9d-4e9d-863b-aafa735b55c5"
      },
      "execution_count": 35,
      "outputs": [
        {
          "output_type": "execute_result",
          "data": {
            "text/plain": [
              "(<torch.utils.data.dataset.TensorDataset at 0x7daa4452b490>,\n",
              " 5,\n",
              " (tensor([73., 80., 75.]), tensor([152.])),\n",
              " (tensor([89., 91., 90.]), tensor([180.])),\n",
              " (tensor([ 96.,  98., 100.]), tensor([196.])))"
            ]
          },
          "metadata": {},
          "execution_count": 35
        }
      ]
    },
    {
      "cell_type": "code",
      "source": [
        "dataloader = DataLoader(dataset, batch_size=2, shuffle=True)"
      ],
      "metadata": {
        "id": "izHb9_ggO_K0"
      },
      "execution_count": 36,
      "outputs": []
    },
    {
      "cell_type": "code",
      "source": [
        "dataloader, len(dataloader)\n",
        "\n",
        "for index, batchdata in enumerate(dataloader):\n",
        "    print(batchdata[0], batchdata[1])"
      ],
      "metadata": {
        "colab": {
          "base_uri": "https://localhost:8080/"
        },
        "id": "YDC-GkaSPAMf",
        "outputId": "4f79eee1-957f-4bda-9a9a-6cda8dabe493"
      },
      "execution_count": 37,
      "outputs": [
        {
          "output_type": "stream",
          "name": "stdout",
          "text": [
            "tensor([[ 96.,  98., 100.],\n",
            "        [ 89.,  91.,  90.]]) tensor([[196.],\n",
            "        [180.]])\n",
            "tensor([[73., 66., 70.],\n",
            "        [93., 88., 93.]]) tensor([[142.],\n",
            "        [185.]])\n",
            "tensor([[73., 80., 75.]]) tensor([[152.]])\n"
          ]
        }
      ]
    },
    {
      "cell_type": "code",
      "source": [
        "model = nn.Linear(3, 1)\n",
        "optimizer = torch.optim.SGD(model.parameters(), lr=1e-6)"
      ],
      "metadata": {
        "id": "H96dTACTPBmL"
      },
      "execution_count": 38,
      "outputs": []
    },
    {
      "cell_type": "code",
      "source": [
        "epochs = 60\n",
        "for epoch in range(epochs+1):\n",
        "    for index, batchdata in enumerate(dataloader):\n",
        "\n",
        "        prediction = model.forward(batchdata[0])\n",
        "        cost = F.mse_loss(prediction, batchdata[1])\n",
        "\n",
        "        optimizer.zero_grad()\n",
        "        cost.backward()\n",
        "        optimizer.step()\n",
        "\n",
        "    if epoch % 10 == 0:\n",
        "        print(\n",
        "            \"Epoch {:4d}/{} Batch {}/{} Cost: {:.6f}\".format(\n",
        "                epoch, epochs, index + 1, len(dataloader), cost.item()\n",
        "            )\n",
        "        )"
      ],
      "metadata": {
        "colab": {
          "base_uri": "https://localhost:8080/"
        },
        "id": "r-27uCmWPDJS",
        "outputId": "912fd470-2d15-4cb8-d617-a19a592624b1"
      },
      "execution_count": 39,
      "outputs": [
        {
          "output_type": "stream",
          "name": "stdout",
          "text": [
            "Epoch    0/60 Batch 3/3 Cost: 23283.623047\n",
            "Epoch   10/60 Batch 3/3 Cost: 1023.903320\n",
            "Epoch   20/60 Batch 3/3 Cost: 91.202271\n",
            "Epoch   30/60 Batch 3/3 Cost: 1.816506\n",
            "Epoch   40/60 Batch 3/3 Cost: 1.016886\n",
            "Epoch   50/60 Batch 3/3 Cost: 0.062928\n",
            "Epoch   60/60 Batch 3/3 Cost: 2.386171\n"
          ]
        }
      ]
    },
    {
      "cell_type": "markdown",
      "source": [
        "#### Custom Dataset 사용"
      ],
      "metadata": {
        "id": "Y_lvlW76PFfY"
      }
    },
    {
      "cell_type": "code",
      "source": [
        "x_train  =  np.array([[73,  80,  75],\n",
        "                               [93,  88,  93],\n",
        "                               [89,  91,  90],\n",
        "                               [96,  98,  100],\n",
        "                               [73,  66,  70]], dtype=float)\n",
        "y_train  =  np.array([[152],  [185],  [180],  [196],  [142]], dtype=float)"
      ],
      "metadata": {
        "id": "yaSgW-8OPG9a"
      },
      "execution_count": 40,
      "outputs": []
    },
    {
      "cell_type": "code",
      "source": [
        "x_train.shape, y_train.shape"
      ],
      "metadata": {
        "colab": {
          "base_uri": "https://localhost:8080/"
        },
        "id": "bZ2Q8w6KPIfW",
        "outputId": "ed9e6701-0184-45e6-cd26-d944d85e8ddf"
      },
      "execution_count": 41,
      "outputs": [
        {
          "output_type": "execute_result",
          "data": {
            "text/plain": [
              "((5, 3), (5, 1))"
            ]
          },
          "metadata": {},
          "execution_count": 41
        }
      ]
    },
    {
      "cell_type": "code",
      "source": [
        "class CustomDataset(TensorDataset):\n",
        "    def __init__(self, x_train, y_train):\n",
        "        super().__init__()\n",
        "        self.x_train = x_train\n",
        "        self.y_train = y_train\n",
        "\n",
        "    def __len__(self):\n",
        "        return len(x_train)\n",
        "\n",
        "    def __getitem__(self, index):\n",
        "        return torch.FloatTensor(self.x_train[index]), torch.FloatTensor(self.y_train[index])"
      ],
      "metadata": {
        "id": "Jre9nu-WPJ1f"
      },
      "execution_count": 42,
      "outputs": []
    },
    {
      "cell_type": "code",
      "source": [
        "customdataset = CustomDataset(x_train, y_train)"
      ],
      "metadata": {
        "id": "3w44YaooPKVf"
      },
      "execution_count": 43,
      "outputs": []
    },
    {
      "cell_type": "code",
      "source": [
        "customdataset, len(customdataset), customdataset[0]"
      ],
      "metadata": {
        "colab": {
          "base_uri": "https://localhost:8080/"
        },
        "id": "WQde9l9nPM73",
        "outputId": "37b1c66e-46af-4019-8ae4-28db954ed8a0"
      },
      "execution_count": 44,
      "outputs": [
        {
          "output_type": "execute_result",
          "data": {
            "text/plain": [
              "(<__main__.CustomDataset at 0x7daa44568520>,\n",
              " 5,\n",
              " (tensor([73., 80., 75.]), tensor([152.])))"
            ]
          },
          "metadata": {},
          "execution_count": 44
        }
      ]
    },
    {
      "cell_type": "code",
      "source": [
        "dataloader = DataLoader(customdataset, batch_size=2, shuffle=True)"
      ],
      "metadata": {
        "id": "yY6_c4PfPOHG"
      },
      "execution_count": 45,
      "outputs": []
    },
    {
      "cell_type": "code",
      "source": [
        "model = torch.nn.Linear(3, 1)\n",
        "optimizer = torch.optim.SGD(model.parameters(), lr=1e-5)"
      ],
      "metadata": {
        "id": "wQcV0OwFPPdE"
      },
      "execution_count": 46,
      "outputs": []
    },
    {
      "cell_type": "code",
      "source": [
        "epochs = 60\n",
        "for epoch in range(epochs+1):\n",
        "    for index, batchdata in enumerate(dataloader):\n",
        "\n",
        "        prediction = model.forward(batchdata[0])\n",
        "        cost = F.mse_loss(prediction, batchdata[1])\n",
        "\n",
        "        optimizer.zero_grad()\n",
        "        cost.backward()\n",
        "        optimizer.step()\n",
        "\n",
        "    if epoch % 10 == 0:\n",
        "        print(\n",
        "            \"Epoch {:4d}/{} Batch {}/{} Cost: {:.6f}\".format(\n",
        "                epoch, epochs, index + 1, len(dataloader), cost.item()\n",
        "            )\n",
        "        )"
      ],
      "metadata": {
        "colab": {
          "base_uri": "https://localhost:8080/"
        },
        "id": "fc1hlJumPRHv",
        "outputId": "8c993870-add4-4214-917c-39dd8236f6da"
      },
      "execution_count": 47,
      "outputs": [
        {
          "output_type": "stream",
          "name": "stdout",
          "text": [
            "Epoch    0/60 Batch 3/3 Cost: 4052.162842\n",
            "Epoch   10/60 Batch 3/3 Cost: 13.085701\n",
            "Epoch   20/60 Batch 3/3 Cost: 12.968835\n",
            "Epoch   30/60 Batch 3/3 Cost: 10.222410\n",
            "Epoch   40/60 Batch 3/3 Cost: 19.410065\n",
            "Epoch   50/60 Batch 3/3 Cost: 12.412139\n",
            "Epoch   60/60 Batch 3/3 Cost: 2.883508\n"
          ]
        }
      ]
    }
  ]
}