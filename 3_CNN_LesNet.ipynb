{
  "nbformat": 4,
  "nbformat_minor": 0,
  "metadata": {
    "colab": {
      "provenance": [],
      "gpuType": "T4",
      "authorship_tag": "ABX9TyOtfPMt12l4FZnCzLxXvxZG",
      "include_colab_link": true
    },
    "kernelspec": {
      "name": "python3",
      "display_name": "Python 3"
    },
    "language_info": {
      "name": "python"
    },
    "accelerator": "GPU"
  },
  "cells": [
    {
      "cell_type": "markdown",
      "metadata": {
        "id": "view-in-github",
        "colab_type": "text"
      },
      "source": [
        "<a href=\"https://colab.research.google.com/github/ThumbRocket/Pre-Learning_AI_Model/blob/main/3_CNN_LesNet.ipynb\" target=\"_parent\"><img src=\"https://colab.research.google.com/assets/colab-badge.svg\" alt=\"Open In Colab\"/></a>"
      ]
    },
    {
      "cell_type": "code",
      "execution_count": 1,
      "metadata": {
        "id": "hCH01SXnQYrh"
      },
      "outputs": [],
      "source": [
        "import os\n",
        "import pickle\n",
        "import sys\n",
        "import nbformat\n",
        "import json\n",
        "import subprocess\n",
        "import re\n",
        "\n",
        "import numpy as np\n",
        "import pandas as pd\n",
        "from tqdm import tqdm\n",
        "import matplotlib.pyplot as plt\n",
        "\n",
        "import torch\n",
        "import torch.nn as nn\n",
        "import torch.optim as optim\n",
        "import torch.nn.functional as F\n",
        "from torchvision import transforms\n",
        "from torch.utils.data import Dataset, DataLoader"
      ]
    },
    {
      "cell_type": "code",
      "source": [
        "device = \"cuda\" if torch.cuda.is_available() else \"cpu\""
      ],
      "metadata": {
        "id": "Q2oBC1gIQvhB"
      },
      "execution_count": 2,
      "outputs": []
    },
    {
      "cell_type": "code",
      "source": [
        "#!kaggle datasets download -d alexandremoritz/simulated-analog-wafer-pattern-recognition\n",
        "#!unzip -o simulated-analog-wafer-pattern-recognition.zip\n",
        "\n",
        "df = pd.DataFrame()\n",
        "all_images=[]\n",
        "all_labels=[]\n",
        "test_images = []\n",
        "test_labels = []\n",
        "\n",
        "for i in range(1, 5):\n",
        "    tmp_df = pd.read_csv(\"training_\"+str(i)+\".csv\",\n",
        "                         sep=\";\",\n",
        "                         decimal=\",\",\n",
        "                         usecols=[\"lot\", \"wafer\", \"x\", \"y\", \"ring\", \"spot\", \"trend\", \"twospots\", \"crescent\"],\n",
        "                         dtype={\n",
        "                             \"lot\":np.string_,\n",
        "                             \"wafer\":np.int16,\n",
        "                             \"x\":np.int16,\n",
        "                             \"y\":np.int16,\n",
        "                             \"ring\":np.float64,\n",
        "                             \"spot\":np.float64,\n",
        "                             \"trend\":np.float64,\n",
        "                             \"twospot\":np.float64,\n",
        "                             \"cresent\":np.float64}\n",
        "                         )\n",
        "\n",
        "    df = pd.concat([df, tmp_df])\n",
        "\n",
        "category = df.columns[4:].to_list()\n",
        "\n",
        "def create_image(df, wafer_id, pattern):\n",
        "\n",
        "    Image =np.zeros([193, 115])\n",
        "\n",
        "    for i, row in df[df[\"wafer\"]==wafer_id].iterrows():\n",
        "        Image[(row[\"y\"]-1), row[\"x\"]-1] = row[pattern]\n",
        "\n",
        "    return Image\n",
        "\n",
        "def create_images_from_df(df, wafer_id):\n",
        "\n",
        "    images=[]\n",
        "    labels=[]\n",
        "\n",
        "    for index, feature in enumerate(category):\n",
        "        image = np.copy(df[df[\"wafer\"]==wafer_id].pivot(index=\"x\", columns=\"y\", values=feature).fillna(0).values)\n",
        "        images.append(image)\n",
        "        labels.append(index)\n",
        "\n",
        "    return images, labels\n",
        "\n",
        "for id in tqdm(df[\"wafer\"].unique()):\n",
        "    image, label = create_images_from_df(df, id)\n",
        "\n",
        "    all_images.extend(image)\n",
        "    all_labels.extend(label)\n",
        "\n",
        "df_loaded = pd.DataFrame({\"image\" : all_images, \"label\" : all_labels})"
      ],
      "metadata": {
        "colab": {
          "base_uri": "https://localhost:8080/"
        },
        "id": "Gs1qpub7RCT_",
        "outputId": "a86a719d-5aaf-406f-834e-a5f71971e53b"
      },
      "execution_count": 3,
      "outputs": [
        {
          "output_type": "stream",
          "name": "stderr",
          "text": [
            "100%|██████████| 800/800 [00:57<00:00, 13.81it/s]\n"
          ]
        }
      ]
    },
    {
      "cell_type": "code",
      "source": [
        "df_loaded, df_loaded.shape"
      ],
      "metadata": {
        "colab": {
          "base_uri": "https://localhost:8080/"
        },
        "id": "JswIoJhtT1fm",
        "outputId": "201ad1bd-3158-4114-858b-bd68ac0f9412"
      },
      "execution_count": 4,
      "outputs": [
        {
          "output_type": "execute_result",
          "data": {
            "text/plain": [
              "(                                                  image  label\n",
              " 0     [[0.0, 0.0, 0.0, 0.0, 0.0, 0.0, 0.0, 0.0, 0.0,...      0\n",
              " 1     [[0.0, 0.0, 0.0, 0.0, 0.0, 0.0, 0.0, 0.0, 0.0,...      1\n",
              " 2     [[0.0, 0.0, 0.0, 0.0, 0.0, 0.0, 0.0, 0.0, 0.0,...      2\n",
              " 3     [[0.0, 0.0, 0.0, 0.0, 0.0, 0.0, 0.0, 0.0, 0.0,...      3\n",
              " 4     [[0.0, 0.0, 0.0, 0.0, 0.0, 0.0, 0.0, 0.0, 0.0,...      4\n",
              " ...                                                 ...    ...\n",
              " 3995  [[0.0, 0.0, 0.0, 0.0, 0.0, 0.0, 0.0, 0.0, 0.0,...      0\n",
              " 3996  [[0.0, 0.0, 0.0, 0.0, 0.0, 0.0, 0.0, 0.0, 0.0,...      1\n",
              " 3997  [[0.0, 0.0, 0.0, 0.0, 0.0, 0.0, 0.0, 0.0, 0.0,...      2\n",
              " 3998  [[0.0, 0.0, 0.0, 0.0, 0.0, 0.0, 0.0, 0.0, 0.0,...      3\n",
              " 3999  [[0.0, 0.0, 0.0, 0.0, 0.0, 0.0, 0.0, 0.0, 0.0,...      4\n",
              " \n",
              " [4000 rows x 2 columns],\n",
              " (4000, 2))"
            ]
          },
          "metadata": {},
          "execution_count": 4
        }
      ]
    },
    {
      "cell_type": "code",
      "source": [
        "category"
      ],
      "metadata": {
        "colab": {
          "base_uri": "https://localhost:8080/"
        },
        "id": "9_fX_Ys1T3wq",
        "outputId": "722ce839-baef-49b3-9aaa-69c5398c25de"
      },
      "execution_count": 5,
      "outputs": [
        {
          "output_type": "execute_result",
          "data": {
            "text/plain": [
              "['ring', 'spot', 'trend', 'twospots', 'crescent']"
            ]
          },
          "metadata": {},
          "execution_count": 5
        }
      ]
    },
    {
      "cell_type": "code",
      "source": [
        "pivot = int((len(df_loaded) * 0.8))\n",
        "pivot"
      ],
      "metadata": {
        "colab": {
          "base_uri": "https://localhost:8080/"
        },
        "id": "jgtQyVWMT5tG",
        "outputId": "6c6d124d-6f0e-4057-dc5b-77653706a0e3"
      },
      "execution_count": 6,
      "outputs": [
        {
          "output_type": "execute_result",
          "data": {
            "text/plain": [
              "3200"
            ]
          },
          "metadata": {},
          "execution_count": 6
        }
      ]
    },
    {
      "cell_type": "code",
      "source": [
        "train_df = df_loaded[:pivot]"
      ],
      "metadata": {
        "id": "6qycSZhXT686"
      },
      "execution_count": 7,
      "outputs": []
    },
    {
      "cell_type": "code",
      "source": [
        "train_df.shape, train_df"
      ],
      "metadata": {
        "colab": {
          "base_uri": "https://localhost:8080/"
        },
        "id": "EtbkgvV5T9Yg",
        "outputId": "5e21dd52-dc5a-4b3c-b71d-4fb161fbb664"
      },
      "execution_count": 8,
      "outputs": [
        {
          "output_type": "execute_result",
          "data": {
            "text/plain": [
              "((3200, 2),\n",
              "                                                   image  label\n",
              " 0     [[0.0, 0.0, 0.0, 0.0, 0.0, 0.0, 0.0, 0.0, 0.0,...      0\n",
              " 1     [[0.0, 0.0, 0.0, 0.0, 0.0, 0.0, 0.0, 0.0, 0.0,...      1\n",
              " 2     [[0.0, 0.0, 0.0, 0.0, 0.0, 0.0, 0.0, 0.0, 0.0,...      2\n",
              " 3     [[0.0, 0.0, 0.0, 0.0, 0.0, 0.0, 0.0, 0.0, 0.0,...      3\n",
              " 4     [[0.0, 0.0, 0.0, 0.0, 0.0, 0.0, 0.0, 0.0, 0.0,...      4\n",
              " ...                                                 ...    ...\n",
              " 3195  [[0.0, 0.0, 0.0, 0.0, 0.0, 0.0, 0.0, 0.0, 0.0,...      0\n",
              " 3196  [[0.0, 0.0, 0.0, 0.0, 0.0, 0.0, 0.0, 0.0, 0.0,...      1\n",
              " 3197  [[0.0, 0.0, 0.0, 0.0, 0.0, 0.0, 0.0, 0.0, 0.0,...      2\n",
              " 3198  [[0.0, 0.0, 0.0, 0.0, 0.0, 0.0, 0.0, 0.0, 0.0,...      3\n",
              " 3199  [[0.0, 0.0, 0.0, 0.0, 0.0, 0.0, 0.0, 0.0, 0.0,...      4\n",
              " \n",
              " [3200 rows x 2 columns])"
            ]
          },
          "metadata": {},
          "execution_count": 8
        }
      ]
    },
    {
      "cell_type": "code",
      "source": [
        "test_df = df_loaded[pivot:]"
      ],
      "metadata": {
        "id": "2PtSMYbKT-Ha"
      },
      "execution_count": 9,
      "outputs": []
    },
    {
      "cell_type": "code",
      "source": [
        "test_df.shape, test_df"
      ],
      "metadata": {
        "colab": {
          "base_uri": "https://localhost:8080/"
        },
        "id": "QrO1nBNnUAsy",
        "outputId": "dab9ae80-d87b-4c60-dc29-359a9d539035"
      },
      "execution_count": 10,
      "outputs": [
        {
          "output_type": "execute_result",
          "data": {
            "text/plain": [
              "((800, 2),\n",
              "                                                   image  label\n",
              " 3200  [[0.0, 0.0, 0.0, 0.0, 0.0, 0.0, 0.0, 0.0, 0.0,...      0\n",
              " 3201  [[0.0, 0.0, 0.0, 0.0, 0.0, 0.0, 0.0, 0.0, 0.0,...      1\n",
              " 3202  [[0.0, 0.0, 0.0, 0.0, 0.0, 0.0, 0.0, 0.0, 0.0,...      2\n",
              " 3203  [[0.0, 0.0, 0.0, 0.0, 0.0, 0.0, 0.0, 0.0, 0.0,...      3\n",
              " 3204  [[0.0, 0.0, 0.0, 0.0, 0.0, 0.0, 0.0, 0.0, 0.0,...      4\n",
              " ...                                                 ...    ...\n",
              " 3995  [[0.0, 0.0, 0.0, 0.0, 0.0, 0.0, 0.0, 0.0, 0.0,...      0\n",
              " 3996  [[0.0, 0.0, 0.0, 0.0, 0.0, 0.0, 0.0, 0.0, 0.0,...      1\n",
              " 3997  [[0.0, 0.0, 0.0, 0.0, 0.0, 0.0, 0.0, 0.0, 0.0,...      2\n",
              " 3998  [[0.0, 0.0, 0.0, 0.0, 0.0, 0.0, 0.0, 0.0, 0.0,...      3\n",
              " 3999  [[0.0, 0.0, 0.0, 0.0, 0.0, 0.0, 0.0, 0.0, 0.0,...      4\n",
              " \n",
              " [800 rows x 2 columns])"
            ]
          },
          "metadata": {},
          "execution_count": 10
        }
      ]
    },
    {
      "cell_type": "code",
      "source": [
        "class WaferDataset(Dataset):\n",
        "    def __init__(self, dataframe, transform) -> None:\n",
        "        super().__init__()\n",
        "        self.dataframe = dataframe\n",
        "        self.transform = transform\n",
        "\n",
        "    def __len__(self):\n",
        "        return len(self.dataframe)\n",
        "\n",
        "    def __getitem__(self, index):\n",
        "        image = torch.tensor(self.dataframe.iloc[index, 0]).float()\n",
        "        label = torch.tensor(self.dataframe.iloc[index, 1]).float()\n",
        "\n",
        "        if self.transform:\n",
        "            image = self.transform(image)\n",
        "\n",
        "        return image, label"
      ],
      "metadata": {
        "id": "PJaS3eZ8UCfN"
      },
      "execution_count": 11,
      "outputs": []
    },
    {
      "cell_type": "code",
      "source": [
        "def minmax_scaling(image):\n",
        "\n",
        "    min_val = torch.min(image)\n",
        "    max_val = torch.max(image)\n",
        "\n",
        "    if max_val - min_val < 1e-9:\n",
        "        return image\n",
        "    else:\n",
        "        return (image - min_val) / (max_val - min_val)\n",
        "\n",
        "tranform = transforms.Compose([\n",
        "    transforms.Lambda(minmax_scaling),\n",
        "    transforms.ToPILImage(),\n",
        "    transforms.Resize((96, 96)),\n",
        "    transforms.ToTensor()\n",
        "])"
      ],
      "metadata": {
        "id": "ws7kB54FUDW-"
      },
      "execution_count": 12,
      "outputs": []
    },
    {
      "cell_type": "code",
      "source": [
        "train_Dataset = WaferDataset(train_df, transform=tranform)\n",
        "test_Dataset = WaferDataset(test_df, transform=tranform)"
      ],
      "metadata": {
        "id": "pEQtxyccUE21"
      },
      "execution_count": 13,
      "outputs": []
    },
    {
      "cell_type": "code",
      "source": [
        "train_Dataset, test_Dataset, len(train_Dataset), train_Dataset[0]"
      ],
      "metadata": {
        "colab": {
          "base_uri": "https://localhost:8080/"
        },
        "id": "zEF9qKpzUGmJ",
        "outputId": "8e1e8792-6c62-4c0a-9e3e-1bac64c8658e"
      },
      "execution_count": 14,
      "outputs": [
        {
          "output_type": "execute_result",
          "data": {
            "text/plain": [
              "(<__main__.WaferDataset at 0x7a725bc9b1f0>,\n",
              " <__main__.WaferDataset at 0x7a725bc9bd30>,\n",
              " 3200,\n",
              " (tensor([[[0.0863, 0.0863, 0.0863,  ..., 0.0863, 0.0863, 0.0863],\n",
              "           [0.0863, 0.0863, 0.0863,  ..., 0.0863, 0.0863, 0.0863],\n",
              "           [0.0863, 0.0863, 0.0863,  ..., 0.0863, 0.0863, 0.0863],\n",
              "           ...,\n",
              "           [0.0863, 0.0863, 0.0863,  ..., 0.0863, 0.0863, 0.0863],\n",
              "           [0.0863, 0.0863, 0.0863,  ..., 0.0863, 0.0863, 0.0863],\n",
              "           [0.0863, 0.0863, 0.0863,  ..., 0.0863, 0.0863, 0.0863]]]),\n",
              "  tensor(0.)))"
            ]
          },
          "metadata": {},
          "execution_count": 14
        }
      ]
    },
    {
      "cell_type": "code",
      "source": [
        "image, label = train_Dataset[18]\n",
        "\n",
        "plt.figure(figsize=(6, 6))\n",
        "plt.imshow(image.squeeze(0), cmap=\"inferno\")\n",
        "plt.title(f\"Category : {category[label.int()]}\")\n",
        "plt.axis(\"off\")\n",
        "plt.colorbar(label=\"Defect Intensity\")\n",
        "plt.show()"
      ],
      "metadata": {
        "colab": {
          "base_uri": "https://localhost:8080/",
          "height": 499
        },
        "id": "IpWq5qyhUJi_",
        "outputId": "32547d73-7cc1-40ac-e5d8-3d64009d995b"
      },
      "execution_count": 15,
      "outputs": [
        {
          "output_type": "display_data",
          "data": {
            "text/plain": [
              "<Figure size 600x600 with 2 Axes>"
            ],
            "image/png": "[encoded data removed]"
          },
          "metadata": {}
        }
      ]
    },
    {
      "cell_type": "code",
      "source": [
        "batch_size = 32\n",
        "train_loader = DataLoader(train_Dataset, batch_size=batch_size, shuffle=True)\n",
        "test_loader = DataLoader(test_Dataset, batch_size=batch_size, shuffle=False)"
      ],
      "metadata": {
        "id": "uNNZ83GZUMWs"
      },
      "execution_count": 16,
      "outputs": []
    },
    {
      "cell_type": "code",
      "source": [
        "len(train_loader), len(train_Dataset)"
      ],
      "metadata": {
        "colab": {
          "base_uri": "https://localhost:8080/"
        },
        "id": "WThfQHSXUN5p",
        "outputId": "2937fa3d-9425-4c9c-ec3e-b246bfa70a14"
      },
      "execution_count": 17,
      "outputs": [
        {
          "output_type": "execute_result",
          "data": {
            "text/plain": [
              "(100, 3200)"
            ]
          },
          "metadata": {},
          "execution_count": 17
        }
      ]
    },
    {
      "cell_type": "code",
      "source": [
        "len(category)"
      ],
      "metadata": {
        "colab": {
          "base_uri": "https://localhost:8080/"
        },
        "id": "cbHjkoAYUPUm",
        "outputId": "966efa7d-8a00-4750-a267-4ed77b877387"
      },
      "execution_count": 18,
      "outputs": [
        {
          "output_type": "execute_result",
          "data": {
            "text/plain": [
              "5"
            ]
          },
          "metadata": {},
          "execution_count": 18
        }
      ]
    },
    {
      "cell_type": "code",
      "source": [
        "class CNNClassifier(nn.Module):\n",
        "    def __init__(self) -> None:\n",
        "        super().__init__()\n",
        "\n",
        "        self.conv1 = nn.Conv2d(in_channels=1, out_channels=16, kernel_size=13, stride=1, padding=0)\n",
        "        self.conv2 = nn.Conv2d(in_channels=16, out_channels=32, kernel_size=9, stride=1, padding=0)\n",
        "        self.pool = nn.MaxPool2d(kernel_size=2, stride=2, padding=0)\n",
        "\n",
        "        self.fc1 = nn.Linear(32 * 17 * 17, 128)\n",
        "        self.fc2 = nn.Linear(128, len(category))\n",
        "\n",
        "    def forward(self, x):\n",
        "\n",
        "        # Layer 1   input 96 x 96\n",
        "        x = self.conv1(x)   # output shape : 16x84x84\n",
        "        x = F.relu(x)\n",
        "        x = self.pool(x)    # output shape : 16x42x42\n",
        "\n",
        "        x = self.conv2(x)   # output shape : 32x34x34\n",
        "        x = F.relu(x)\n",
        "        x = self.pool(x)     # output shape : 32x17x17\n",
        "\n",
        "        x = x.view(-1, 32*17*17)\n",
        "        x = F.relu(self.fc1(x))\n",
        "        x = self.fc2(x)\n",
        "        x = F.softmax(x, dim=1)\n",
        "\n",
        "        return x"
      ],
      "metadata": {
        "id": "nVwZX8QmUQk0"
      },
      "execution_count": 19,
      "outputs": []
    },
    {
      "cell_type": "code",
      "source": [
        "model = CNNClassifier()"
      ],
      "metadata": {
        "id": "R3m8hkfkUR9v"
      },
      "execution_count": 20,
      "outputs": []
    },
    {
      "cell_type": "code",
      "source": [
        "model"
      ],
      "metadata": {
        "colab": {
          "base_uri": "https://localhost:8080/"
        },
        "id": "uhFDPnHiUTH4",
        "outputId": "be49f8d3-8ab0-4b67-b58f-2aa44ef6217e"
      },
      "execution_count": 21,
      "outputs": [
        {
          "output_type": "execute_result",
          "data": {
            "text/plain": [
              "CNNClassifier(\n",
              "  (conv1): Conv2d(1, 16, kernel_size=(13, 13), stride=(1, 1))\n",
              "  (conv2): Conv2d(16, 32, kernel_size=(9, 9), stride=(1, 1))\n",
              "  (pool): MaxPool2d(kernel_size=2, stride=2, padding=0, dilation=1, ceil_mode=False)\n",
              "  (fc1): Linear(in_features=9248, out_features=128, bias=True)\n",
              "  (fc2): Linear(in_features=128, out_features=5, bias=True)\n",
              ")"
            ]
          },
          "metadata": {},
          "execution_count": 21
        }
      ]
    },
    {
      "cell_type": "code",
      "source": [
        "def train_model(model, train_loader, optimizer, criterion, epochs, device):\n",
        "\n",
        "    model.to(device)\n",
        "\n",
        "    for epoch in range(epochs):\n",
        "        model.train()\n",
        "\n",
        "        total_loss = 0.0\n",
        "        correct = 0\n",
        "        total = 0\n",
        "\n",
        "        for images, labels in train_loader:\n",
        "            images, labels = images.to(device), labels.to(device)\n",
        "\n",
        "            optimizer.zero_grad()\n",
        "            outputs = model(images)\n",
        "\n",
        "            loss = criterion(outputs, labels.long())\n",
        "            loss.backward()\n",
        "            optimizer.step()\n",
        "\n",
        "            total_loss += loss.item() * images.size(0)\n",
        "\n",
        "            _, predicted = outputs.max(1)\n",
        "\n",
        "            total += labels.size(0)\n",
        "            correct += (predicted == labels).sum().item()\n",
        "\n",
        "        avg_train_loss = total_loss / total\n",
        "        train_accuracy = correct / total\n",
        "\n",
        "        print(f\"Epoch [{epoch + 1}/{epochs}] - \"\n",
        "              f\"Train Loss: {avg_train_loss:.4f}, \"\n",
        "              f\"Train Accuracy: {train_accuracy:.4f}\")\n",
        "\n",
        "    return model"
      ],
      "metadata": {
        "id": "JVqrsXOtUUrv"
      },
      "execution_count": 22,
      "outputs": []
    },
    {
      "cell_type": "code",
      "source": [
        "optimizer = optim.SGD(model.parameters(), lr=1e-4)\n",
        "criterion = nn.CrossEntropyLoss()\n",
        "epochs = 10"
      ],
      "metadata": {
        "id": "VhnDWkXEUVwB"
      },
      "execution_count": 23,
      "outputs": []
    },
    {
      "cell_type": "code",
      "source": [
        "trained_model = train_model(model,\n",
        "            train_loader,\n",
        "            optimizer,\n",
        "            criterion,\n",
        "            epochs=epochs,\n",
        "            device=device)"
      ],
      "metadata": {
        "colab": {
          "base_uri": "https://localhost:8080/"
        },
        "id": "aJPy1kpHUZQI",
        "outputId": "48f434ce-b73d-443e-8640-7604fc6604be"
      },
      "execution_count": 24,
      "outputs": [
        {
          "output_type": "stream",
          "name": "stderr",
          "text": [
            "/usr/local/lib/python3.10/dist-packages/torch/nn/modules/conv.py:456: UserWarning: Plan failed with a cudnnException: CUDNN_BACKEND_EXECUTION_PLAN_DESCRIPTOR: cudnnFinalize Descriptor Failed cudnn_status: CUDNN_STATUS_NOT_SUPPORTED (Triggered internally at ../aten/src/ATen/native/cudnn/Conv_v8.cpp:919.)\n",
            "  return F.conv2d(input, weight, bias, self.stride,\n",
            "/usr/local/lib/python3.10/dist-packages/torch/autograd/graph.py:744: UserWarning: Plan failed with a cudnnException: CUDNN_BACKEND_EXECUTION_PLAN_DESCRIPTOR: cudnnFinalize Descriptor Failed cudnn_status: CUDNN_STATUS_NOT_SUPPORTED (Triggered internally at ../aten/src/ATen/native/cudnn/Conv_v8.cpp:919.)\n",
            "  return Variable._execution_engine.run_backward(  # Calls into the C++ engine to run the backward pass\n"
          ]
        },
        {
          "output_type": "stream",
          "name": "stdout",
          "text": [
            "Epoch [1/10] - Train Loss: 1.6096, Train Accuracy: 0.2181\n",
            "Epoch [2/10] - Train Loss: 1.6093, Train Accuracy: 0.2166\n",
            "Epoch [3/10] - Train Loss: 1.6090, Train Accuracy: 0.2134\n",
            "Epoch [4/10] - Train Loss: 1.6087, Train Accuracy: 0.2353\n",
            "Epoch [5/10] - Train Loss: 1.6084, Train Accuracy: 0.3106\n",
            "Epoch [6/10] - Train Loss: 1.6081, Train Accuracy: 0.3853\n",
            "Epoch [7/10] - Train Loss: 1.6078, Train Accuracy: 0.3600\n",
            "Epoch [8/10] - Train Loss: 1.6074, Train Accuracy: 0.3453\n",
            "Epoch [9/10] - Train Loss: 1.6071, Train Accuracy: 0.3334\n",
            "Epoch [10/10] - Train Loss: 1.6068, Train Accuracy: 0.3144\n"
          ]
        }
      ]
    },
    {
      "cell_type": "code",
      "source": [
        "def test_model(model, test_loader, criterion, device):\n",
        "\n",
        "    model.eval()\n",
        "    model.to(device)\n",
        "\n",
        "    total_loss = 0.0\n",
        "    correct = 0\n",
        "    total = 0\n",
        "\n",
        "    with torch.no_grad():\n",
        "        for images, labels in test_loader:\n",
        "            images, labels = images.to(device), labels.to(device)\n",
        "            outputs = model(images)\n",
        "\n",
        "            loss = criterion(outputs, labels.long())\n",
        "            total_loss += loss.item() * images.size(0)\n",
        "\n",
        "            _, predicted = outputs.max(1)\n",
        "            total += labels.size(0)\n",
        "\n",
        "            correct += (predicted == labels).sum().item()\n",
        "\n",
        "    avg_test_loss = total_loss / total\n",
        "    test_accuracy = correct / total\n",
        "\n",
        "    print(f\"Test Loss: {avg_test_loss:.4f}, Test Accuracy: {test_accuracy:.4f}\")\n",
        "\n",
        "    return avg_test_loss, test_accuracy"
      ],
      "metadata": {
        "id": "5hkcMX23Uayp"
      },
      "execution_count": 25,
      "outputs": []
    },
    {
      "cell_type": "code",
      "source": [
        "test_loss, test_accuracy = test_model(trained_model,\n",
        "                                      test_loader,\n",
        "                                      criterion, device=device)\n",
        "\n",
        "print(f\"Test loss: {test_loss} | Test Accuracy: {test_accuracy}\")"
      ],
      "metadata": {
        "colab": {
          "base_uri": "https://localhost:8080/"
        },
        "id": "NSUGG3tLUcLM",
        "outputId": "391c5b6b-0ca9-48a3-d611-3bc23d15176a"
      },
      "execution_count": 26,
      "outputs": [
        {
          "output_type": "stream",
          "name": "stdout",
          "text": [
            "Test Loss: 1.6066, Test Accuracy: 0.3088\n",
            "Test loss: 1.6066065835952759 | Test Accuracy: 0.30875\n"
          ]
        }
      ]
    }
  ]
}