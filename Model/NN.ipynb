{
 "cells": [
  {
   "cell_type": "code",
   "execution_count": 151,
   "metadata": {},
   "outputs": [],
   "source": [
    "# torch 의 유용한 함수들\n",
    "import numpy as np\n",
    "import torch\n",
    "import torch.nn as nn  # neural network 모음. (e.g. nn.Linear, nn.Conv2d, BatchNorm, Loss functions 등등)\n",
    "import torch.optim as optim  # Optimization algorithm 모음, (e.g. SGD, Adam, 등등)\n",
    "import torch.nn.functional as F  # 파라미터가 필요없는 Function 모음\n",
    "import torchvision.datasets as datasets  # 표준 데이터 세트 모음\n",
    "import torchvision.transforms as transforms  # 데이터 세트에 적용 할 수있는 변환 관련 함수 모음\n",
    "from torch.utils.data import DataLoader  # 데이터 세트 관리 및 미니 배치 생성을 위한 함수 모음\n",
    "from torch.utils.data import TensorDataset # 텐서데이터셋\n",
    "import torch.backends.cudnn as cudnn  # cudnn을 다루기 위한 값 모음\n",
    "import torch.onnx  # model을 onnx 로 변환하기 위함"
   ]
  },
  {
   "cell_type": "code",
   "execution_count": 92,
   "metadata": {},
   "outputs": [],
   "source": [
    "device = torch.device(\"cuda\" if torch.cuda.is_available() else \"cpu\")"
   ]
  },
  {
   "cell_type": "markdown",
   "metadata": {},
   "source": [
    "# Linear Regression Model"
   ]
  },
  {
   "cell_type": "code",
   "execution_count": 93,
   "metadata": {},
   "outputs": [],
   "source": [
    "x_train = torch.FloatTensor([[1], [2], [3]])\n",
    "y_train = torch.FloatTensor([[5], [7], [9]])"
   ]
  },
  {
   "cell_type": "code",
   "execution_count": 94,
   "metadata": {},
   "outputs": [
    {
     "data": {
      "text/plain": [
       "(tensor([[1.],\n",
       "         [2.],\n",
       "         [3.]]),\n",
       " torch.Size([3, 1]))"
      ]
     },
     "execution_count": 94,
     "metadata": {},
     "output_type": "execute_result"
    }
   ],
   "source": [
    "x_train, x_train.shape"
   ]
  },
  {
   "cell_type": "code",
   "execution_count": 95,
   "metadata": {},
   "outputs": [],
   "source": [
    "# 가중치 설정\n",
    "W = torch.zeros(1, requires_grad=True)\n",
    "b = torch.zeros(1, requires_grad=True)"
   ]
  },
  {
   "cell_type": "code",
   "execution_count": 96,
   "metadata": {},
   "outputs": [
    {
     "data": {
      "text/plain": [
       "(tensor([0.], requires_grad=True), torch.Size([1]))"
      ]
     },
     "execution_count": 96,
     "metadata": {},
     "output_type": "execute_result"
    }
   ],
   "source": [
    "W, W.shape"
   ]
  },
  {
   "cell_type": "code",
   "execution_count": 97,
   "metadata": {},
   "outputs": [],
   "source": [
    "hypothesis = x_train * W + b"
   ]
  },
  {
   "cell_type": "code",
   "execution_count": 98,
   "metadata": {},
   "outputs": [
    {
     "data": {
      "text/plain": [
       "tensor([[0.],\n",
       "        [0.],\n",
       "        [0.]], grad_fn=<AddBackward0>)"
      ]
     },
     "execution_count": 98,
     "metadata": {},
     "output_type": "execute_result"
    }
   ],
   "source": [
    "hypothesis"
   ]
  },
  {
   "cell_type": "code",
   "execution_count": 99,
   "metadata": {},
   "outputs": [
    {
     "data": {
      "text/plain": [
       "tensor([[ 8.3333],\n",
       "        [16.3333],\n",
       "        [27.0000]], grad_fn=<DivBackward0>)"
      ]
     },
     "execution_count": 99,
     "metadata": {},
     "output_type": "execute_result"
    }
   ],
   "source": [
    "(hypothesis - y_train) ** 2 / 3"
   ]
  },
  {
   "cell_type": "code",
   "execution_count": 100,
   "metadata": {},
   "outputs": [
    {
     "name": "stdout",
     "output_type": "stream",
     "text": [
      "tensor(51.6667, grad_fn=<MeanBackward0>)\n"
     ]
    }
   ],
   "source": [
    "cost = torch.mean((hypothesis - y_train) ** 2)\n",
    "print(cost)"
   ]
  },
  {
   "cell_type": "code",
   "execution_count": 101,
   "metadata": {},
   "outputs": [
    {
     "data": {
      "text/plain": [
       "tensor([0.], requires_grad=True)"
      ]
     },
     "execution_count": 101,
     "metadata": {},
     "output_type": "execute_result"
    }
   ],
   "source": [
    "W"
   ]
  },
  {
   "cell_type": "code",
   "execution_count": 102,
   "metadata": {},
   "outputs": [],
   "source": [
    "optimizer = optim.SGD([W, b], lr=0.01)"
   ]
  },
  {
   "cell_type": "code",
   "execution_count": 103,
   "metadata": {},
   "outputs": [],
   "source": [
    "optimizer.zero_grad()\n",
    "cost.backward()\n",
    "optimizer.step()"
   ]
  },
  {
   "cell_type": "markdown",
   "metadata": {},
   "source": [
    "### 1 epoch 실행 시 W 변화"
   ]
  },
  {
   "cell_type": "code",
   "execution_count": 104,
   "metadata": {},
   "outputs": [
    {
     "data": {
      "text/plain": [
       "tensor([0.3067], requires_grad=True)"
      ]
     },
     "execution_count": 104,
     "metadata": {},
     "output_type": "execute_result"
    }
   ],
   "source": [
    "W"
   ]
  },
  {
   "cell_type": "code",
   "execution_count": 105,
   "metadata": {},
   "outputs": [
    {
     "name": "stdout",
     "output_type": "stream",
     "text": [
      "Epoch    0/3000 W: 0.579, b: 0.265 Cost: 40.932430\n",
      "Epoch  200/3000 W: 2.481, b: 1.908 Cost: 0.172035\n",
      "Epoch  400/3000 W: 2.297, b: 2.325 Cost: 0.065691\n",
      "Epoch  600/3000 W: 2.184, b: 2.583 Cost: 0.025084\n",
      "Epoch  800/3000 W: 2.113, b: 2.742 Cost: 0.009578\n",
      "Epoch 1000/3000 W: 2.070, b: 2.841 Cost: 0.003658\n",
      "Epoch 1200/3000 W: 2.043, b: 2.902 Cost: 0.001397\n",
      "Epoch 1400/3000 W: 2.027, b: 2.939 Cost: 0.000533\n",
      "Epoch 1600/3000 W: 2.017, b: 2.962 Cost: 0.000204\n",
      "Epoch 1800/3000 W: 2.010, b: 2.977 Cost: 0.000078\n",
      "Epoch 2000/3000 W: 2.006, b: 2.986 Cost: 0.000030\n",
      "Epoch 2200/3000 W: 2.004, b: 2.991 Cost: 0.000011\n",
      "Epoch 2400/3000 W: 2.002, b: 2.995 Cost: 0.000004\n",
      "Epoch 2600/3000 W: 2.001, b: 2.997 Cost: 0.000002\n",
      "Epoch 2800/3000 W: 2.001, b: 2.998 Cost: 0.000001\n",
      "Epoch 3000/3000 W: 2.001, b: 2.999 Cost: 0.000000\n"
     ]
    }
   ],
   "source": [
    "epochs = 3000\n",
    "\n",
    "for epoch in range(epochs+1):\n",
    "    \n",
    "    hypothesis = x_train * W + b\n",
    "    cost = torch.mean((hypothesis - y_train) ** 2)\n",
    "\n",
    "    optimizer.zero_grad() # RNN에서는 전파과정에 gradient add 동작 존재\n",
    "    cost.backward()\n",
    "    optimizer.step()\n",
    "\n",
    "    if epoch % 200 == 0:\n",
    "        print('Epoch {:4d}/{} W: {:.3f}, b: {:.3f} Cost: {:.6f}'.format(\n",
    "            epoch, epochs, W.item(), b.item(), cost.item()\n",
    "            ))"
   ]
  },
  {
   "cell_type": "markdown",
   "metadata": {},
   "source": [
    "### pytorch Model 활용 Linear Regression Model"
   ]
  },
  {
   "cell_type": "code",
   "execution_count": 112,
   "metadata": {},
   "outputs": [
    {
     "data": {
      "text/plain": [
       "[Parameter containing:\n",
       " tensor([[-0.1806]], requires_grad=True),\n",
       " Parameter containing:\n",
       " tensor([0.9801], requires_grad=True)]"
      ]
     },
     "execution_count": 112,
     "metadata": {},
     "output_type": "execute_result"
    }
   ],
   "source": [
    "model = nn.Linear(1, 1)\n",
    "list(model.parameters())"
   ]
  },
  {
   "cell_type": "code",
   "execution_count": 113,
   "metadata": {},
   "outputs": [
    {
     "data": {
      "text/plain": [
       "(tensor([[1.],\n",
       "         [2.],\n",
       "         [3.]]),\n",
       " tensor([[0.7995],\n",
       "         [0.6189],\n",
       "         [0.4382]], grad_fn=<AddmmBackward0>))"
      ]
     },
     "execution_count": 113,
     "metadata": {},
     "output_type": "execute_result"
    }
   ],
   "source": [
    "x_train, model(x_train)"
   ]
  },
  {
   "cell_type": "code",
   "execution_count": 114,
   "metadata": {},
   "outputs": [],
   "source": [
    "optimizer = optim.SGD(model.parameters(), lr=0.01)"
   ]
  },
  {
   "cell_type": "code",
   "execution_count": 115,
   "metadata": {},
   "outputs": [
    {
     "name": "stdout",
     "output_type": "stream",
     "text": [
      "Epoch    0/3000 Cost: 43.888977\n",
      "Epoch  200/3000 Cost: 0.043259\n",
      "Epoch  400/3000 Cost: 0.016519\n",
      "Epoch  600/3000 Cost: 0.006308\n",
      "Epoch  800/3000 Cost: 0.002409\n",
      "Epoch 1000/3000 Cost: 0.000920\n",
      "Epoch 1200/3000 Cost: 0.000351\n",
      "Epoch 1400/3000 Cost: 0.000134\n",
      "Epoch 1600/3000 Cost: 0.000051\n",
      "Epoch 1800/3000 Cost: 0.000020\n",
      "Epoch 2000/3000 Cost: 0.000007\n",
      "Epoch 2200/3000 Cost: 0.000003\n",
      "Epoch 2400/3000 Cost: 0.000001\n",
      "Epoch 2600/3000 Cost: 0.000000\n",
      "Epoch 2800/3000 Cost: 0.000000\n",
      "Epoch 3000/3000 Cost: 0.000000\n"
     ]
    }
   ],
   "source": [
    "epochs = 3000\n",
    "\n",
    "for epoch in range(epochs+1):\n",
    "    \n",
    "    prediction = model(x_train)\n",
    "    cost = F.mse_loss(prediction, y_train) # torch.mean((hypothesis - y_train) ** 2)\n",
    "\n",
    "    optimizer.zero_grad() \n",
    "    cost.backward()\n",
    "    optimizer.step()\n",
    "\n",
    "    if epoch % 200 == 0:\n",
    "        print('Epoch {:4d}/{} Cost: {:.6f}'.format(\n",
    "            epoch, epochs, cost.item()\n",
    "            ))"
   ]
  },
  {
   "cell_type": "code",
   "execution_count": 119,
   "metadata": {},
   "outputs": [
    {
     "data": {
      "text/plain": [
       "(tensor([[4.9996],\n",
       "         [6.9999],\n",
       "         [9.0002]], grad_fn=<AddmmBackward0>),\n",
       " tensor([[5.],\n",
       "         [7.],\n",
       "         [9.]]),\n",
       " [Parameter containing:\n",
       "  tensor([[2.0003]], requires_grad=True),\n",
       "  Parameter containing:\n",
       "  tensor([2.9993], requires_grad=True)])"
      ]
     },
     "execution_count": 119,
     "metadata": {},
     "output_type": "execute_result"
    }
   ],
   "source": [
    "model(x_train), y_train, list(model.parameters())"
   ]
  },
  {
   "cell_type": "markdown",
   "metadata": {},
   "source": [
    "### pytorch Model 활용 Multi Linear Regression Model"
   ]
  },
  {
   "cell_type": "code",
   "execution_count": 133,
   "metadata": {},
   "outputs": [],
   "source": [
    "x_train = torch.FloatTensor([[73, 80, 75], [93, 88, 93], [89, 91, 90], [96, 98, 100], [73, 66, 70]])\n",
    "y_train = torch.FloatTensor([[152], [185], [180], [196], [142]])"
   ]
  },
  {
   "cell_type": "code",
   "execution_count": 134,
   "metadata": {},
   "outputs": [
    {
     "data": {
      "text/plain": [
       "(torch.Size([5, 3]), torch.Size([5, 1]))"
      ]
     },
     "execution_count": 134,
     "metadata": {},
     "output_type": "execute_result"
    }
   ],
   "source": [
    "x_train.shape, y_train.shape"
   ]
  },
  {
   "cell_type": "code",
   "execution_count": 135,
   "metadata": {},
   "outputs": [],
   "source": [
    "model = nn.Linear(3, 1)"
   ]
  },
  {
   "cell_type": "code",
   "execution_count": 136,
   "metadata": {},
   "outputs": [
    {
     "data": {
      "text/plain": [
       "[Parameter containing:\n",
       " tensor([[-0.0071,  0.5706, -0.2668]], requires_grad=True),\n",
       " Parameter containing:\n",
       " tensor([-0.5093], requires_grad=True)]"
      ]
     },
     "execution_count": 136,
     "metadata": {},
     "output_type": "execute_result"
    }
   ],
   "source": [
    "list(model.parameters())"
   ]
  },
  {
   "cell_type": "code",
   "execution_count": 137,
   "metadata": {},
   "outputs": [],
   "source": [
    "optimizer = optim.SGD(model.parameters(), lr=1e-5)"
   ]
  },
  {
   "cell_type": "code",
   "execution_count": 138,
   "metadata": {},
   "outputs": [
    {
     "name": "stdout",
     "output_type": "stream",
     "text": [
      "Epoch    0/6000 Cost: 21828.746094\n",
      "Epoch  600/6000 Cost: 6.441886\n",
      "Epoch 1200/6000 Cost: 4.704942\n",
      "Epoch 1800/6000 Cost: 3.450146\n",
      "Epoch 2400/6000 Cost: 2.543673\n",
      "Epoch 3000/6000 Cost: 1.888818\n",
      "Epoch 3600/6000 Cost: 1.415742\n",
      "Epoch 4200/6000 Cost: 1.073956\n",
      "Epoch 4800/6000 Cost: 0.827039\n",
      "Epoch 5400/6000 Cost: 0.648667\n",
      "Epoch 6000/6000 Cost: 0.519758\n"
     ]
    }
   ],
   "source": [
    "epochs = 6000\n",
    "\n",
    "for epoch in range(epochs+1):\n",
    "    \n",
    "    prediction = model(x_train)\n",
    "    cost = F.mse_loss(prediction, y_train) # torch.mean((hypothesis - y_train) ** 2)\n",
    "\n",
    "    optimizer.zero_grad() \n",
    "    cost.backward()\n",
    "    optimizer.step()\n",
    "\n",
    "    if epoch % 600 == 0:\n",
    "        print('Epoch {:4d}/{} Cost: {:.6f}'.format(\n",
    "            epoch, epochs, cost.item()\n",
    "            ))"
   ]
  },
  {
   "cell_type": "code",
   "execution_count": 140,
   "metadata": {},
   "outputs": [
    {
     "data": {
      "text/plain": [
       "(tensor([[152.2929],\n",
       "         [184.0934],\n",
       "         [180.9597],\n",
       "         [196.3176],\n",
       "         [141.1826]], grad_fn=<AddmmBackward0>),\n",
       " tensor([[152.],\n",
       "         [185.],\n",
       "         [180.],\n",
       "         [196.],\n",
       "         [142.]]),\n",
       " [Parameter containing:\n",
       "  tensor([[0.9647, 0.6484, 0.4067]], requires_grad=True),\n",
       "  Parameter containing:\n",
       "  tensor([-0.4972], requires_grad=True)])"
      ]
     },
     "execution_count": 140,
     "metadata": {},
     "output_type": "execute_result"
    }
   ],
   "source": [
    "model(x_train), y_train, list(model.parameters())"
   ]
  },
  {
   "cell_type": "markdown",
   "metadata": {},
   "source": [
    "#### Class을 이용한 Model 구현"
   ]
  },
  {
   "cell_type": "code",
   "execution_count": 144,
   "metadata": {},
   "outputs": [],
   "source": [
    "class MultiLinearRegressionModel(nn.Module):\n",
    "    def __init__(self):\n",
    "        super().__init__()\n",
    "        self.linear = nn.Linear(3, 1)\n",
    "    \n",
    "    def forward(self, inputdata):\n",
    "        return self.linear(inputdata)"
   ]
  },
  {
   "cell_type": "code",
   "execution_count": 145,
   "metadata": {},
   "outputs": [],
   "source": [
    "model = MultiLinearRegressionModel()"
   ]
  },
  {
   "cell_type": "code",
   "execution_count": 146,
   "metadata": {},
   "outputs": [
    {
     "data": {
      "text/plain": [
       "MultiLinearRegressionModel(\n",
       "  (linear): Linear(in_features=3, out_features=1, bias=True)\n",
       ")"
      ]
     },
     "execution_count": 146,
     "metadata": {},
     "output_type": "execute_result"
    }
   ],
   "source": [
    "model # model의 Layer 정보"
   ]
  },
  {
   "cell_type": "code",
   "execution_count": 147,
   "metadata": {},
   "outputs": [],
   "source": [
    "optimizer = optim.SGD(model.parameters(), lr=1e-5)"
   ]
  },
  {
   "cell_type": "code",
   "execution_count": 148,
   "metadata": {},
   "outputs": [
    {
     "name": "stdout",
     "output_type": "stream",
     "text": [
      "Epoch    0/3000 Cost: 53096.925781\n",
      "Epoch  600/3000 Cost: 0.581358\n",
      "Epoch 1200/3000 Cost: 0.506776\n",
      "Epoch 1800/3000 Cost: 0.451699\n",
      "Epoch 2400/3000 Cost: 0.410761\n",
      "Epoch 3000/3000 Cost: 0.380049\n"
     ]
    }
   ],
   "source": [
    "epochs = 3000\n",
    "\n",
    "for epoch in range(epochs+1):\n",
    "    \n",
    "    prediction = model.forward(x_train)\n",
    "    cost = F.mse_loss(prediction, y_train)\n",
    "\n",
    "    optimizer.zero_grad() \n",
    "    cost.backward()\n",
    "    optimizer.step()\n",
    "\n",
    "    if epoch % 600 == 0:\n",
    "        print('Epoch {:4d}/{} Cost: {:.6f}'.format(\n",
    "            epoch, epochs, cost.item()\n",
    "            ))"
   ]
  },
  {
   "cell_type": "code",
   "execution_count": 149,
   "metadata": {},
   "outputs": [
    {
     "data": {
      "text/plain": [
       "(tensor([[151.5666],\n",
       "         [184.5262],\n",
       "         [180.5832],\n",
       "         [196.7709],\n",
       "         [141.2561]], grad_fn=<AddmmBackward0>),\n",
       " tensor([[152.],\n",
       "         [185.],\n",
       "         [180.],\n",
       "         [196.],\n",
       "         [142.]]),\n",
       " [Parameter containing:\n",
       "  tensor([[0.8170, 0.4834, 0.7085]], requires_grad=True),\n",
       "  Parameter containing:\n",
       "  tensor([0.1164], requires_grad=True)])"
      ]
     },
     "execution_count": 149,
     "metadata": {},
     "output_type": "execute_result"
    }
   ],
   "source": [
    "model(x_train), y_train, list(model.parameters())"
   ]
  },
  {
   "cell_type": "markdown",
   "metadata": {},
   "source": [
    "#### Pytorch Dataset 이용"
   ]
  },
  {
   "cell_type": "code",
   "execution_count": 152,
   "metadata": {},
   "outputs": [],
   "source": [
    "x_train  =  torch.FloatTensor([[73,  80,  75],\n",
    "                               [93,  88,  93],\n",
    "                               [89,  91,  90],\n",
    "                               [96,  98,  100],\n",
    "                               [73,  66,  70]])\n",
    "y_train  =  torch.FloatTensor([[152],  [185],  [180],  [196],  [142]])\n",
    "\n",
    "dataset = TensorDataset(x_train, y_train)"
   ]
  },
  {
   "cell_type": "code",
   "execution_count": 157,
   "metadata": {},
   "outputs": [
    {
     "data": {
      "text/plain": [
       "(<torch.utils.data.dataset.TensorDataset at 0x176703690>,\n",
       " 5,\n",
       " (tensor([73., 80., 75.]), tensor([152.])),\n",
       " (tensor([89., 91., 90.]), tensor([180.])),\n",
       " (tensor([ 96.,  98., 100.]), tensor([196.])))"
      ]
     },
     "execution_count": 157,
     "metadata": {},
     "output_type": "execute_result"
    }
   ],
   "source": [
    "dataset, len(dataset), dataset[0], dataset[2], dataset[3]"
   ]
  },
  {
   "cell_type": "code",
   "execution_count": 185,
   "metadata": {},
   "outputs": [],
   "source": [
    "dataloader = DataLoader(dataset, batch_size=2, shuffle=True)"
   ]
  },
  {
   "cell_type": "code",
   "execution_count": 186,
   "metadata": {},
   "outputs": [
    {
     "name": "stdout",
     "output_type": "stream",
     "text": [
      "tensor([[89., 91., 90.],\n",
      "        [73., 80., 75.]]) tensor([[180.],\n",
      "        [152.]])\n",
      "tensor([[93., 88., 93.],\n",
      "        [73., 66., 70.]]) tensor([[185.],\n",
      "        [142.]])\n",
      "tensor([[ 96.,  98., 100.]]) tensor([[196.]])\n"
     ]
    }
   ],
   "source": [
    "dataloader, len(dataloader)\n",
    "\n",
    "for index, batchdata in enumerate(dataloader):\n",
    "    print(batchdata[0], batchdata[1])"
   ]
  },
  {
   "cell_type": "code",
   "execution_count": 206,
   "metadata": {},
   "outputs": [],
   "source": [
    "model = nn.Linear(3, 1)\n",
    "optimizer = torch.optim.SGD(model.parameters(), lr=1e-6)"
   ]
  },
  {
   "cell_type": "code",
   "execution_count": 207,
   "metadata": {},
   "outputs": [
    {
     "name": "stdout",
     "output_type": "stream",
     "text": [
      "Epoch    0/60 Batch 3/3 Cost: 62435.906250\n",
      "Epoch   10/60 Batch 3/3 Cost: 4106.858887\n",
      "Epoch   20/60 Batch 3/3 Cost: 129.297607\n",
      "Epoch   30/60 Batch 3/3 Cost: 7.957520\n",
      "Epoch   40/60 Batch 3/3 Cost: 0.016834\n",
      "Epoch   50/60 Batch 3/3 Cost: 10.291803\n",
      "Epoch   60/60 Batch 3/3 Cost: 8.525053\n"
     ]
    }
   ],
   "source": [
    "epochs = 60\n",
    "for epoch in range(epochs+1):\n",
    "    for index, batchdata in enumerate(dataloader):\n",
    "        \n",
    "        prediction = model.forward(batchdata[0])\n",
    "        cost = F.mse_loss(prediction, batchdata[1])\n",
    "\n",
    "        optimizer.zero_grad() \n",
    "        cost.backward()\n",
    "        optimizer.step()\n",
    "        \n",
    "    if epoch % 10 == 0:\n",
    "        print(\n",
    "            \"Epoch {:4d}/{} Batch {}/{} Cost: {:.6f}\".format(\n",
    "                epoch, epochs, index + 1, len(dataloader), cost.item()\n",
    "            )\n",
    "        )"
   ]
  },
  {
   "cell_type": "markdown",
   "metadata": {},
   "source": [
    "#### Custom Dataset 사용 "
   ]
  },
  {
   "cell_type": "code",
   "execution_count": 244,
   "metadata": {},
   "outputs": [],
   "source": [
    "x_train  =  np.array([[73,  80,  75],\n",
    "                               [93,  88,  93],\n",
    "                               [89,  91,  90],\n",
    "                               [96,  98,  100],\n",
    "                               [73,  66,  70]], dtype=float)\n",
    "y_train  =  np.array([[152],  [185],  [180],  [196],  [142]], dtype=float)"
   ]
  },
  {
   "cell_type": "code",
   "execution_count": 245,
   "metadata": {},
   "outputs": [
    {
     "data": {
      "text/plain": [
       "((5, 3), (5, 1))"
      ]
     },
     "execution_count": 245,
     "metadata": {},
     "output_type": "execute_result"
    }
   ],
   "source": [
    "x_train.shape, y_train.shape"
   ]
  },
  {
   "cell_type": "code",
   "execution_count": 246,
   "metadata": {},
   "outputs": [],
   "source": [
    "class CustomDataset(TensorDataset):\n",
    "    def __init__(self, x_train, y_train):\n",
    "        super().__init__()\n",
    "        self.x_train = x_train\n",
    "        self.y_train = y_train\n",
    "\n",
    "    def __len__(self):\n",
    "        return len(x_train)\n",
    "    \n",
    "    def __getitem__(self, index):\n",
    "        return torch.FloatTensor(self.x_train[index]), torch.FloatTensor(self.y_train[index])"
   ]
  },
  {
   "cell_type": "code",
   "execution_count": 247,
   "metadata": {},
   "outputs": [],
   "source": [
    "customdataset = CustomDataset(x_train, y_train)"
   ]
  },
  {
   "cell_type": "code",
   "execution_count": 236,
   "metadata": {},
   "outputs": [
    {
     "data": {
      "text/plain": [
       "(<__main__.CustomDataset at 0x1778c8a10>,\n",
       " 5,\n",
       " (tensor([73., 80., 75.]), tensor([152.])))"
      ]
     },
     "execution_count": 236,
     "metadata": {},
     "output_type": "execute_result"
    }
   ],
   "source": [
    "customdataset, len(customdataset), customdataset[0]"
   ]
  },
  {
   "cell_type": "code",
   "execution_count": 248,
   "metadata": {},
   "outputs": [],
   "source": [
    "dataloader = DataLoader(customdataset, batch_size=2, shuffle=True)"
   ]
  },
  {
   "cell_type": "code",
   "execution_count": 249,
   "metadata": {},
   "outputs": [],
   "source": [
    "model = torch.nn.Linear(3, 1)\n",
    "optimizer = torch.optim.SGD(model.parameters(), lr=1e-5)"
   ]
  },
  {
   "cell_type": "code",
   "execution_count": 250,
   "metadata": {},
   "outputs": [
    {
     "name": "stdout",
     "output_type": "stream",
     "text": [
      "Epoch    0/60 Batch 3/3 Cost: 11844.422852\n",
      "Epoch   10/60 Batch 3/3 Cost: 0.009883\n",
      "Epoch   20/60 Batch 3/3 Cost: 0.179863\n",
      "Epoch   30/60 Batch 3/3 Cost: 0.850923\n",
      "Epoch   40/60 Batch 3/3 Cost: 0.000000\n",
      "Epoch   50/60 Batch 3/3 Cost: 0.145298\n",
      "Epoch   60/60 Batch 3/3 Cost: 0.661496\n"
     ]
    }
   ],
   "source": [
    "epochs = 60\n",
    "for epoch in range(epochs+1):\n",
    "    for index, batchdata in enumerate(dataloader):\n",
    "\n",
    "        prediction = model.forward(batchdata[0])\n",
    "        cost = F.mse_loss(prediction, batchdata[1])\n",
    "\n",
    "        optimizer.zero_grad() \n",
    "        cost.backward()\n",
    "        optimizer.step()\n",
    "        \n",
    "    if epoch % 10 == 0:\n",
    "        print(\n",
    "            \"Epoch {:4d}/{} Batch {}/{} Cost: {:.6f}\".format(\n",
    "                epoch, epochs, index + 1, len(dataloader), cost.item()\n",
    "            )\n",
    "        )"
   ]
  }
 ],
 "metadata": {
  "kernelspec": {
   "display_name": "base",
   "language": "python",
   "name": "python3"
  },
  "language_info": {
   "codemirror_mode": {
    "name": "ipython",
    "version": 3
   },
   "file_extension": ".py",
   "mimetype": "text/x-python",
   "name": "python",
   "nbconvert_exporter": "python",
   "pygments_lexer": "ipython3",
   "version": "3.11.7"
  }
 },
 "nbformat": 4,
 "nbformat_minor": 2
}
